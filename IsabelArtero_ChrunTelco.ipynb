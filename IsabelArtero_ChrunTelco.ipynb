{
 "cells": [
  {
   "cell_type": "markdown",
   "metadata": {},
   "source": [
    "# EVALUACIÓN ML CON PYTHON: CHURN CLIENTES EMPRESA TELCO "
   ]
  },
  {
   "cell_type": "code",
   "execution_count": 1,
   "metadata": {},
   "outputs": [],
   "source": [
    "# Librerías utilizadas\n",
    "import pandas as pd\n",
    "import seaborn as sns\n",
    "import matplotlib.pyplot as plt\n",
    "from sklearn.preprocessing import LabelEncoder, OneHotEncoder\n",
    "from datetime import datetime\n",
    "import numpy as np\n",
    "from sklearn.linear_model import LinearRegression\n",
    "from sklearn.model_selection import train_test_split \n",
    "from sklearn.metrics import accuracy_score, auc, confusion_matrix, f1_score, precision_score, recall_score, roc_curve\n",
    "from sklearn.linear_model.logistic import LogisticRegression\n",
    "from sklearn.tree import DecisionTreeClassifier\n",
    "from sklearn.ensemble import RandomForestClassifier\n",
    "from sklearn.svm import SVC\n",
    "from sklearn import naive_bayes\n",
    "from sklearn.model_selection import cross_val_score\n",
    "from sklearn.feature_selection import VarianceThreshold\n",
    "from sklearn.feature_selection import SelectKBest\n",
    "from sklearn.feature_selection import chi2 \n",
    "from sklearn.decomposition import PCA"
   ]
  },
  {
   "cell_type": "markdown",
   "metadata": {},
   "source": [
    "# 1. Cargar datos y crear tablón"
   ]
  },
  {
   "cell_type": "markdown",
   "metadata": {},
   "source": [
    "## Cargar tablas de diciembre y enero"
   ]
  },
  {
   "cell_type": "code",
   "execution_count": 2,
   "metadata": {},
   "outputs": [],
   "source": [
    "# Lectura de datos diciembre\n",
    "dic_clientes = pd.read_csv('diciembre/clientes_diciembre.csv', sep='|')\n",
    "dic_financiacion = pd.read_csv('diciembre/financiacion_diciembre.csv', sep='|')\n",
    "dic_consumos = pd.read_csv('diciembre/consumos_diciembre.csv', sep='|')\n",
    "dic_productos = pd.read_csv('diciembre/productos_diciembre.csv', sep='|')"
   ]
  },
  {
   "cell_type": "code",
   "execution_count": 3,
   "metadata": {
    "scrolled": false
   },
   "outputs": [
    {
     "data": {
      "text/html": [
       "<div>\n",
       "<style scoped>\n",
       "    .dataframe tbody tr th:only-of-type {\n",
       "        vertical-align: middle;\n",
       "    }\n",
       "\n",
       "    .dataframe tbody tr th {\n",
       "        vertical-align: top;\n",
       "    }\n",
       "\n",
       "    .dataframe thead th {\n",
       "        text-align: right;\n",
       "    }\n",
       "</style>\n",
       "<table border=\"1\" class=\"dataframe\">\n",
       "  <thead>\n",
       "    <tr style=\"text-align: right;\">\n",
       "      <th></th>\n",
       "      <th>id</th>\n",
       "      <th>edad</th>\n",
       "      <th>facturacion</th>\n",
       "      <th>antiguedad</th>\n",
       "      <th>provincia</th>\n",
       "      <th>num_lineas</th>\n",
       "      <th>num_dt</th>\n",
       "      <th>incidencia</th>\n",
       "    </tr>\n",
       "  </thead>\n",
       "  <tbody>\n",
       "    <tr>\n",
       "      <td>0</td>\n",
       "      <td>1</td>\n",
       "      <td>63</td>\n",
       "      <td>216.028109</td>\n",
       "      <td>11/23/2018 08:48 AM</td>\n",
       "      <td>La Rioja</td>\n",
       "      <td>5</td>\n",
       "      <td>NaN</td>\n",
       "      <td>NaN</td>\n",
       "    </tr>\n",
       "    <tr>\n",
       "      <td>1</td>\n",
       "      <td>2</td>\n",
       "      <td>84</td>\n",
       "      <td>255.830842</td>\n",
       "      <td>08/22/2017 03:19 AM</td>\n",
       "      <td>Vizcaya</td>\n",
       "      <td>3</td>\n",
       "      <td>NaN</td>\n",
       "      <td>NaN</td>\n",
       "    </tr>\n",
       "    <tr>\n",
       "      <td>2</td>\n",
       "      <td>3</td>\n",
       "      <td>66</td>\n",
       "      <td>135.768153</td>\n",
       "      <td>12/27/2001 01:50 PM</td>\n",
       "      <td>Albacete</td>\n",
       "      <td>4</td>\n",
       "      <td>NaN</td>\n",
       "      <td>NaN</td>\n",
       "    </tr>\n",
       "    <tr>\n",
       "      <td>3</td>\n",
       "      <td>4</td>\n",
       "      <td>69</td>\n",
       "      <td>255.658527</td>\n",
       "      <td>08/08/2015 10:53 AM</td>\n",
       "      <td>Lugo</td>\n",
       "      <td>4</td>\n",
       "      <td>NaN</td>\n",
       "      <td>NaN</td>\n",
       "    </tr>\n",
       "    <tr>\n",
       "      <td>4</td>\n",
       "      <td>5</td>\n",
       "      <td>25</td>\n",
       "      <td>22.302845</td>\n",
       "      <td>08/29/1997 02:19 AM</td>\n",
       "      <td>Tarragona</td>\n",
       "      <td>2</td>\n",
       "      <td>2.0</td>\n",
       "      <td>NaN</td>\n",
       "    </tr>\n",
       "  </tbody>\n",
       "</table>\n",
       "</div>"
      ],
      "text/plain": [
       "   id  edad  facturacion           antiguedad  provincia  num_lineas  num_dt  \\\n",
       "0   1    63   216.028109  11/23/2018 08:48 AM   La Rioja           5     NaN   \n",
       "1   2    84   255.830842  08/22/2017 03:19 AM    Vizcaya           3     NaN   \n",
       "2   3    66   135.768153  12/27/2001 01:50 PM   Albacete           4     NaN   \n",
       "3   4    69   255.658527  08/08/2015 10:53 AM       Lugo           4     NaN   \n",
       "4   5    25    22.302845  08/29/1997 02:19 AM  Tarragona           2     2.0   \n",
       "\n",
       "  incidencia  \n",
       "0        NaN  \n",
       "1        NaN  \n",
       "2        NaN  \n",
       "3        NaN  \n",
       "4        NaN  "
      ]
     },
     "execution_count": 3,
     "metadata": {},
     "output_type": "execute_result"
    }
   ],
   "source": [
    "dic_clientes.head()"
   ]
  },
  {
   "cell_type": "code",
   "execution_count": 4,
   "metadata": {},
   "outputs": [
    {
     "data": {
      "text/html": [
       "<div>\n",
       "<style scoped>\n",
       "    .dataframe tbody tr th:only-of-type {\n",
       "        vertical-align: middle;\n",
       "    }\n",
       "\n",
       "    .dataframe tbody tr th {\n",
       "        vertical-align: top;\n",
       "    }\n",
       "\n",
       "    .dataframe thead th {\n",
       "        text-align: right;\n",
       "    }\n",
       "</style>\n",
       "<table border=\"1\" class=\"dataframe\">\n",
       "  <thead>\n",
       "    <tr style=\"text-align: right;\">\n",
       "      <th></th>\n",
       "      <th>id</th>\n",
       "      <th>edad</th>\n",
       "      <th>facturacion</th>\n",
       "      <th>antiguedad</th>\n",
       "      <th>provincia</th>\n",
       "      <th>num_lineas</th>\n",
       "      <th>num_dt</th>\n",
       "      <th>incidencia</th>\n",
       "      <th>financiacion</th>\n",
       "      <th>imp_financ</th>\n",
       "      <th>descuentos</th>\n",
       "    </tr>\n",
       "  </thead>\n",
       "  <tbody>\n",
       "    <tr>\n",
       "      <td>0</td>\n",
       "      <td>1</td>\n",
       "      <td>63</td>\n",
       "      <td>216.028109</td>\n",
       "      <td>11/23/2018 08:48 AM</td>\n",
       "      <td>La Rioja</td>\n",
       "      <td>5</td>\n",
       "      <td>NaN</td>\n",
       "      <td>NaN</td>\n",
       "      <td>NaN</td>\n",
       "      <td>NaN</td>\n",
       "      <td>NaN</td>\n",
       "    </tr>\n",
       "    <tr>\n",
       "      <td>1</td>\n",
       "      <td>2</td>\n",
       "      <td>84</td>\n",
       "      <td>255.830842</td>\n",
       "      <td>08/22/2017 03:19 AM</td>\n",
       "      <td>Vizcaya</td>\n",
       "      <td>3</td>\n",
       "      <td>NaN</td>\n",
       "      <td>NaN</td>\n",
       "      <td>NaN</td>\n",
       "      <td>NaN</td>\n",
       "      <td>SI</td>\n",
       "    </tr>\n",
       "    <tr>\n",
       "      <td>2</td>\n",
       "      <td>3</td>\n",
       "      <td>66</td>\n",
       "      <td>135.768153</td>\n",
       "      <td>12/27/2001 01:50 PM</td>\n",
       "      <td>Albacete</td>\n",
       "      <td>4</td>\n",
       "      <td>NaN</td>\n",
       "      <td>NaN</td>\n",
       "      <td>NaN</td>\n",
       "      <td>NaN</td>\n",
       "      <td>SI</td>\n",
       "    </tr>\n",
       "    <tr>\n",
       "      <td>3</td>\n",
       "      <td>4</td>\n",
       "      <td>69</td>\n",
       "      <td>255.658527</td>\n",
       "      <td>08/08/2015 10:53 AM</td>\n",
       "      <td>Lugo</td>\n",
       "      <td>4</td>\n",
       "      <td>NaN</td>\n",
       "      <td>NaN</td>\n",
       "      <td>NaN</td>\n",
       "      <td>NaN</td>\n",
       "      <td>NaN</td>\n",
       "    </tr>\n",
       "    <tr>\n",
       "      <td>4</td>\n",
       "      <td>5</td>\n",
       "      <td>25</td>\n",
       "      <td>22.302845</td>\n",
       "      <td>08/29/1997 02:19 AM</td>\n",
       "      <td>Tarragona</td>\n",
       "      <td>2</td>\n",
       "      <td>2.0</td>\n",
       "      <td>NaN</td>\n",
       "      <td>NaN</td>\n",
       "      <td>NaN</td>\n",
       "      <td>NaN</td>\n",
       "    </tr>\n",
       "  </tbody>\n",
       "</table>\n",
       "</div>"
      ],
      "text/plain": [
       "   id  edad  facturacion           antiguedad  provincia  num_lineas  num_dt  \\\n",
       "0   1    63   216.028109  11/23/2018 08:48 AM   La Rioja           5     NaN   \n",
       "1   2    84   255.830842  08/22/2017 03:19 AM    Vizcaya           3     NaN   \n",
       "2   3    66   135.768153  12/27/2001 01:50 PM   Albacete           4     NaN   \n",
       "3   4    69   255.658527  08/08/2015 10:53 AM       Lugo           4     NaN   \n",
       "4   5    25    22.302845  08/29/1997 02:19 AM  Tarragona           2     2.0   \n",
       "\n",
       "  incidencia financiacion  imp_financ descuentos  \n",
       "0        NaN          NaN         NaN        NaN  \n",
       "1        NaN          NaN         NaN         SI  \n",
       "2        NaN          NaN         NaN         SI  \n",
       "3        NaN          NaN         NaN        NaN  \n",
       "4        NaN          NaN         NaN        NaN  "
      ]
     },
     "execution_count": 4,
     "metadata": {},
     "output_type": "execute_result"
    }
   ],
   "source": [
    "# mergear distintas tablas por ID a la master de clientes\n",
    "dic1 = pd.merge(dic_clientes, dic_financiacion, on='id', how='left')\n",
    "dic1.head()"
   ]
  },
  {
   "cell_type": "code",
   "execution_count": 5,
   "metadata": {},
   "outputs": [
    {
     "data": {
      "text/html": [
       "<div>\n",
       "<style scoped>\n",
       "    .dataframe tbody tr th:only-of-type {\n",
       "        vertical-align: middle;\n",
       "    }\n",
       "\n",
       "    .dataframe tbody tr th {\n",
       "        vertical-align: top;\n",
       "    }\n",
       "\n",
       "    .dataframe thead th {\n",
       "        text-align: right;\n",
       "    }\n",
       "</style>\n",
       "<table border=\"1\" class=\"dataframe\">\n",
       "  <thead>\n",
       "    <tr style=\"text-align: right;\">\n",
       "      <th></th>\n",
       "      <th>id</th>\n",
       "      <th>edad</th>\n",
       "      <th>facturacion</th>\n",
       "      <th>antiguedad</th>\n",
       "      <th>provincia</th>\n",
       "      <th>num_lineas</th>\n",
       "      <th>num_dt</th>\n",
       "      <th>incidencia</th>\n",
       "      <th>financiacion</th>\n",
       "      <th>imp_financ</th>\n",
       "      <th>descuentos</th>\n",
       "      <th>num_llamad_ent</th>\n",
       "      <th>num_llamad_sal</th>\n",
       "      <th>mb_datos</th>\n",
       "      <th>seg_llamad_ent</th>\n",
       "      <th>seg_llamad_sal</th>\n",
       "    </tr>\n",
       "  </thead>\n",
       "  <tbody>\n",
       "    <tr>\n",
       "      <td>0</td>\n",
       "      <td>1</td>\n",
       "      <td>63</td>\n",
       "      <td>216.028109</td>\n",
       "      <td>11/23/2018 08:48 AM</td>\n",
       "      <td>La Rioja</td>\n",
       "      <td>5</td>\n",
       "      <td>NaN</td>\n",
       "      <td>NaN</td>\n",
       "      <td>NaN</td>\n",
       "      <td>NaN</td>\n",
       "      <td>NaN</td>\n",
       "      <td>110</td>\n",
       "      <td>79</td>\n",
       "      <td>10897</td>\n",
       "      <td>12806</td>\n",
       "      <td>13751</td>\n",
       "    </tr>\n",
       "    <tr>\n",
       "      <td>1</td>\n",
       "      <td>2</td>\n",
       "      <td>84</td>\n",
       "      <td>255.830842</td>\n",
       "      <td>08/22/2017 03:19 AM</td>\n",
       "      <td>Vizcaya</td>\n",
       "      <td>3</td>\n",
       "      <td>NaN</td>\n",
       "      <td>NaN</td>\n",
       "      <td>NaN</td>\n",
       "      <td>NaN</td>\n",
       "      <td>SI</td>\n",
       "      <td>189</td>\n",
       "      <td>89</td>\n",
       "      <td>18657</td>\n",
       "      <td>6499</td>\n",
       "      <td>10862</td>\n",
       "    </tr>\n",
       "    <tr>\n",
       "      <td>2</td>\n",
       "      <td>3</td>\n",
       "      <td>66</td>\n",
       "      <td>135.768153</td>\n",
       "      <td>12/27/2001 01:50 PM</td>\n",
       "      <td>Albacete</td>\n",
       "      <td>4</td>\n",
       "      <td>NaN</td>\n",
       "      <td>NaN</td>\n",
       "      <td>NaN</td>\n",
       "      <td>NaN</td>\n",
       "      <td>SI</td>\n",
       "      <td>129</td>\n",
       "      <td>30</td>\n",
       "      <td>15511</td>\n",
       "      <td>17013</td>\n",
       "      <td>16743</td>\n",
       "    </tr>\n",
       "    <tr>\n",
       "      <td>3</td>\n",
       "      <td>4</td>\n",
       "      <td>69</td>\n",
       "      <td>255.658527</td>\n",
       "      <td>08/08/2015 10:53 AM</td>\n",
       "      <td>Lugo</td>\n",
       "      <td>4</td>\n",
       "      <td>NaN</td>\n",
       "      <td>NaN</td>\n",
       "      <td>NaN</td>\n",
       "      <td>NaN</td>\n",
       "      <td>NaN</td>\n",
       "      <td>51</td>\n",
       "      <td>52</td>\n",
       "      <td>12670</td>\n",
       "      <td>3393</td>\n",
       "      <td>6771</td>\n",
       "    </tr>\n",
       "    <tr>\n",
       "      <td>4</td>\n",
       "      <td>5</td>\n",
       "      <td>25</td>\n",
       "      <td>22.302845</td>\n",
       "      <td>08/29/1997 02:19 AM</td>\n",
       "      <td>Tarragona</td>\n",
       "      <td>2</td>\n",
       "      <td>2.0</td>\n",
       "      <td>NaN</td>\n",
       "      <td>NaN</td>\n",
       "      <td>NaN</td>\n",
       "      <td>NaN</td>\n",
       "      <td>183</td>\n",
       "      <td>3</td>\n",
       "      <td>23756</td>\n",
       "      <td>18436</td>\n",
       "      <td>4485</td>\n",
       "    </tr>\n",
       "  </tbody>\n",
       "</table>\n",
       "</div>"
      ],
      "text/plain": [
       "   id  edad  facturacion           antiguedad  provincia  num_lineas  num_dt  \\\n",
       "0   1    63   216.028109  11/23/2018 08:48 AM   La Rioja           5     NaN   \n",
       "1   2    84   255.830842  08/22/2017 03:19 AM    Vizcaya           3     NaN   \n",
       "2   3    66   135.768153  12/27/2001 01:50 PM   Albacete           4     NaN   \n",
       "3   4    69   255.658527  08/08/2015 10:53 AM       Lugo           4     NaN   \n",
       "4   5    25    22.302845  08/29/1997 02:19 AM  Tarragona           2     2.0   \n",
       "\n",
       "  incidencia financiacion  imp_financ descuentos  num_llamad_ent  \\\n",
       "0        NaN          NaN         NaN        NaN             110   \n",
       "1        NaN          NaN         NaN         SI             189   \n",
       "2        NaN          NaN         NaN         SI             129   \n",
       "3        NaN          NaN         NaN        NaN              51   \n",
       "4        NaN          NaN         NaN        NaN             183   \n",
       "\n",
       "   num_llamad_sal  mb_datos  seg_llamad_ent  seg_llamad_sal  \n",
       "0              79     10897           12806           13751  \n",
       "1              89     18657            6499           10862  \n",
       "2              30     15511           17013           16743  \n",
       "3              52     12670            3393            6771  \n",
       "4               3     23756           18436            4485  "
      ]
     },
     "execution_count": 5,
     "metadata": {},
     "output_type": "execute_result"
    }
   ],
   "source": [
    "dic2 = pd.merge(dic1, dic_consumos, on='id', how='left')\n",
    "dic2.head()"
   ]
  },
  {
   "cell_type": "code",
   "execution_count": 6,
   "metadata": {},
   "outputs": [
    {
     "data": {
      "text/html": [
       "<div>\n",
       "<style scoped>\n",
       "    .dataframe tbody tr th:only-of-type {\n",
       "        vertical-align: middle;\n",
       "    }\n",
       "\n",
       "    .dataframe tbody tr th {\n",
       "        vertical-align: top;\n",
       "    }\n",
       "\n",
       "    .dataframe thead th {\n",
       "        text-align: right;\n",
       "    }\n",
       "</style>\n",
       "<table border=\"1\" class=\"dataframe\">\n",
       "  <thead>\n",
       "    <tr style=\"text-align: right;\">\n",
       "      <th></th>\n",
       "      <th>id</th>\n",
       "      <th>edad</th>\n",
       "      <th>facturacion</th>\n",
       "      <th>antiguedad</th>\n",
       "      <th>provincia</th>\n",
       "      <th>num_lineas</th>\n",
       "      <th>num_dt</th>\n",
       "      <th>incidencia</th>\n",
       "      <th>financiacion</th>\n",
       "      <th>imp_financ</th>\n",
       "      <th>descuentos</th>\n",
       "      <th>num_llamad_ent</th>\n",
       "      <th>num_llamad_sal</th>\n",
       "      <th>mb_datos</th>\n",
       "      <th>seg_llamad_ent</th>\n",
       "      <th>seg_llamad_sal</th>\n",
       "      <th>conexion</th>\n",
       "      <th>vel_conexion</th>\n",
       "      <th>TV</th>\n",
       "    </tr>\n",
       "  </thead>\n",
       "  <tbody>\n",
       "    <tr>\n",
       "      <td>0</td>\n",
       "      <td>1</td>\n",
       "      <td>63</td>\n",
       "      <td>216.028109</td>\n",
       "      <td>11/23/2018 08:48 AM</td>\n",
       "      <td>La Rioja</td>\n",
       "      <td>5</td>\n",
       "      <td>NaN</td>\n",
       "      <td>NaN</td>\n",
       "      <td>NaN</td>\n",
       "      <td>NaN</td>\n",
       "      <td>NaN</td>\n",
       "      <td>110</td>\n",
       "      <td>79</td>\n",
       "      <td>10897</td>\n",
       "      <td>12806</td>\n",
       "      <td>13751</td>\n",
       "      <td>FIBRA</td>\n",
       "      <td>50MB</td>\n",
       "      <td>tv-futbol</td>\n",
       "    </tr>\n",
       "    <tr>\n",
       "      <td>1</td>\n",
       "      <td>2</td>\n",
       "      <td>84</td>\n",
       "      <td>255.830842</td>\n",
       "      <td>08/22/2017 03:19 AM</td>\n",
       "      <td>Vizcaya</td>\n",
       "      <td>3</td>\n",
       "      <td>NaN</td>\n",
       "      <td>NaN</td>\n",
       "      <td>NaN</td>\n",
       "      <td>NaN</td>\n",
       "      <td>SI</td>\n",
       "      <td>189</td>\n",
       "      <td>89</td>\n",
       "      <td>18657</td>\n",
       "      <td>6499</td>\n",
       "      <td>10862</td>\n",
       "      <td>FIBRA</td>\n",
       "      <td>600MB</td>\n",
       "      <td>tv-futbol</td>\n",
       "    </tr>\n",
       "    <tr>\n",
       "      <td>2</td>\n",
       "      <td>3</td>\n",
       "      <td>66</td>\n",
       "      <td>135.768153</td>\n",
       "      <td>12/27/2001 01:50 PM</td>\n",
       "      <td>Albacete</td>\n",
       "      <td>4</td>\n",
       "      <td>NaN</td>\n",
       "      <td>NaN</td>\n",
       "      <td>NaN</td>\n",
       "      <td>NaN</td>\n",
       "      <td>SI</td>\n",
       "      <td>129</td>\n",
       "      <td>30</td>\n",
       "      <td>15511</td>\n",
       "      <td>17013</td>\n",
       "      <td>16743</td>\n",
       "      <td>ADSL</td>\n",
       "      <td>35MB</td>\n",
       "      <td>tv-futbol</td>\n",
       "    </tr>\n",
       "    <tr>\n",
       "      <td>3</td>\n",
       "      <td>4</td>\n",
       "      <td>69</td>\n",
       "      <td>255.658527</td>\n",
       "      <td>08/08/2015 10:53 AM</td>\n",
       "      <td>Lugo</td>\n",
       "      <td>4</td>\n",
       "      <td>NaN</td>\n",
       "      <td>NaN</td>\n",
       "      <td>NaN</td>\n",
       "      <td>NaN</td>\n",
       "      <td>NaN</td>\n",
       "      <td>51</td>\n",
       "      <td>52</td>\n",
       "      <td>12670</td>\n",
       "      <td>3393</td>\n",
       "      <td>6771</td>\n",
       "      <td>FIBRA</td>\n",
       "      <td>200MB</td>\n",
       "      <td>tv-familiar</td>\n",
       "    </tr>\n",
       "    <tr>\n",
       "      <td>4</td>\n",
       "      <td>5</td>\n",
       "      <td>25</td>\n",
       "      <td>22.302845</td>\n",
       "      <td>08/29/1997 02:19 AM</td>\n",
       "      <td>Tarragona</td>\n",
       "      <td>2</td>\n",
       "      <td>2.0</td>\n",
       "      <td>NaN</td>\n",
       "      <td>NaN</td>\n",
       "      <td>NaN</td>\n",
       "      <td>NaN</td>\n",
       "      <td>183</td>\n",
       "      <td>3</td>\n",
       "      <td>23756</td>\n",
       "      <td>18436</td>\n",
       "      <td>4485</td>\n",
       "      <td>ADSL</td>\n",
       "      <td>10MB</td>\n",
       "      <td>tv-futbol</td>\n",
       "    </tr>\n",
       "  </tbody>\n",
       "</table>\n",
       "</div>"
      ],
      "text/plain": [
       "   id  edad  facturacion           antiguedad  provincia  num_lineas  num_dt  \\\n",
       "0   1    63   216.028109  11/23/2018 08:48 AM   La Rioja           5     NaN   \n",
       "1   2    84   255.830842  08/22/2017 03:19 AM    Vizcaya           3     NaN   \n",
       "2   3    66   135.768153  12/27/2001 01:50 PM   Albacete           4     NaN   \n",
       "3   4    69   255.658527  08/08/2015 10:53 AM       Lugo           4     NaN   \n",
       "4   5    25    22.302845  08/29/1997 02:19 AM  Tarragona           2     2.0   \n",
       "\n",
       "  incidencia financiacion  imp_financ descuentos  num_llamad_ent  \\\n",
       "0        NaN          NaN         NaN        NaN             110   \n",
       "1        NaN          NaN         NaN         SI             189   \n",
       "2        NaN          NaN         NaN         SI             129   \n",
       "3        NaN          NaN         NaN        NaN              51   \n",
       "4        NaN          NaN         NaN        NaN             183   \n",
       "\n",
       "   num_llamad_sal  mb_datos  seg_llamad_ent  seg_llamad_sal conexion  \\\n",
       "0              79     10897           12806           13751    FIBRA   \n",
       "1              89     18657            6499           10862    FIBRA   \n",
       "2              30     15511           17013           16743     ADSL   \n",
       "3              52     12670            3393            6771    FIBRA   \n",
       "4               3     23756           18436            4485     ADSL   \n",
       "\n",
       "  vel_conexion           TV  \n",
       "0         50MB    tv-futbol  \n",
       "1        600MB    tv-futbol  \n",
       "2         35MB    tv-futbol  \n",
       "3        200MB  tv-familiar  \n",
       "4         10MB    tv-futbol  "
      ]
     },
     "execution_count": 6,
     "metadata": {},
     "output_type": "execute_result"
    }
   ],
   "source": [
    "dic_final = pd.merge(dic2, dic_productos, on='id', how='left')\n",
    "dic_final.head()"
   ]
  },
  {
   "cell_type": "code",
   "execution_count": 7,
   "metadata": {},
   "outputs": [
    {
     "data": {
      "text/plain": [
       "(95467, 19)"
      ]
     },
     "execution_count": 7,
     "metadata": {},
     "output_type": "execute_result"
    }
   ],
   "source": [
    "dic_final.shape"
   ]
  },
  {
   "cell_type": "code",
   "execution_count": 8,
   "metadata": {
    "scrolled": true
   },
   "outputs": [
    {
     "data": {
      "text/html": [
       "<div>\n",
       "<style scoped>\n",
       "    .dataframe tbody tr th:only-of-type {\n",
       "        vertical-align: middle;\n",
       "    }\n",
       "\n",
       "    .dataframe tbody tr th {\n",
       "        vertical-align: top;\n",
       "    }\n",
       "\n",
       "    .dataframe thead th {\n",
       "        text-align: right;\n",
       "    }\n",
       "</style>\n",
       "<table border=\"1\" class=\"dataframe\">\n",
       "  <thead>\n",
       "    <tr style=\"text-align: right;\">\n",
       "      <th></th>\n",
       "      <th>id</th>\n",
       "      <th>edad</th>\n",
       "      <th>facturacion</th>\n",
       "      <th>antiguedad</th>\n",
       "      <th>provincia</th>\n",
       "      <th>num_lineas</th>\n",
       "      <th>num_dt</th>\n",
       "      <th>incidencia</th>\n",
       "      <th>financiacion</th>\n",
       "      <th>imp_financ</th>\n",
       "      <th>descuentos</th>\n",
       "      <th>num_llamad_ent</th>\n",
       "      <th>num_llamad_sal</th>\n",
       "      <th>mb_datos</th>\n",
       "      <th>seg_llamad_ent</th>\n",
       "      <th>seg_llamad_sal</th>\n",
       "      <th>conexion</th>\n",
       "      <th>vel_conexion</th>\n",
       "      <th>TV</th>\n",
       "    </tr>\n",
       "  </thead>\n",
       "  <tbody>\n",
       "    <tr>\n",
       "      <td>0</td>\n",
       "      <td>1</td>\n",
       "      <td>63</td>\n",
       "      <td>216.028109</td>\n",
       "      <td>11/23/2018 08:48 AM</td>\n",
       "      <td>La Rioja</td>\n",
       "      <td>5</td>\n",
       "      <td>NaN</td>\n",
       "      <td>NaN</td>\n",
       "      <td>NaN</td>\n",
       "      <td>NaN</td>\n",
       "      <td>NaN</td>\n",
       "      <td>95</td>\n",
       "      <td>19</td>\n",
       "      <td>6525</td>\n",
       "      <td>7634</td>\n",
       "      <td>18520</td>\n",
       "      <td>FIBRA</td>\n",
       "      <td>50MB</td>\n",
       "      <td>tv-futbol</td>\n",
       "    </tr>\n",
       "    <tr>\n",
       "      <td>1</td>\n",
       "      <td>2</td>\n",
       "      <td>84</td>\n",
       "      <td>255.830842</td>\n",
       "      <td>08/22/2017 03:19 AM</td>\n",
       "      <td>Vizcaya</td>\n",
       "      <td>3</td>\n",
       "      <td>NaN</td>\n",
       "      <td>NaN</td>\n",
       "      <td>NaN</td>\n",
       "      <td>NaN</td>\n",
       "      <td>SI</td>\n",
       "      <td>44</td>\n",
       "      <td>36</td>\n",
       "      <td>14471</td>\n",
       "      <td>14541</td>\n",
       "      <td>8016</td>\n",
       "      <td>FIBRA</td>\n",
       "      <td>600MB</td>\n",
       "      <td>tv-futbol</td>\n",
       "    </tr>\n",
       "    <tr>\n",
       "      <td>2</td>\n",
       "      <td>3</td>\n",
       "      <td>66</td>\n",
       "      <td>135.768153</td>\n",
       "      <td>12/27/2001 01:50 PM</td>\n",
       "      <td>Albacete</td>\n",
       "      <td>4</td>\n",
       "      <td>NaN</td>\n",
       "      <td>NaN</td>\n",
       "      <td>NaN</td>\n",
       "      <td>NaN</td>\n",
       "      <td>SI</td>\n",
       "      <td>94</td>\n",
       "      <td>27</td>\n",
       "      <td>1428</td>\n",
       "      <td>5248</td>\n",
       "      <td>7106</td>\n",
       "      <td>ADSL</td>\n",
       "      <td>35MB</td>\n",
       "      <td>tv-futbol</td>\n",
       "    </tr>\n",
       "    <tr>\n",
       "      <td>3</td>\n",
       "      <td>4</td>\n",
       "      <td>69</td>\n",
       "      <td>255.658527</td>\n",
       "      <td>08/08/2015 10:53 AM</td>\n",
       "      <td>Lugo</td>\n",
       "      <td>4</td>\n",
       "      <td>NaN</td>\n",
       "      <td>NaN</td>\n",
       "      <td>NaN</td>\n",
       "      <td>NaN</td>\n",
       "      <td>NaN</td>\n",
       "      <td>186</td>\n",
       "      <td>20</td>\n",
       "      <td>20083</td>\n",
       "      <td>7372</td>\n",
       "      <td>5052</td>\n",
       "      <td>FIBRA</td>\n",
       "      <td>200MB</td>\n",
       "      <td>tv-familiar</td>\n",
       "    </tr>\n",
       "    <tr>\n",
       "      <td>4</td>\n",
       "      <td>6</td>\n",
       "      <td>51</td>\n",
       "      <td>99.348645</td>\n",
       "      <td>11/04/1997 11:43 AM</td>\n",
       "      <td>Huelva</td>\n",
       "      <td>4</td>\n",
       "      <td>NaN</td>\n",
       "      <td>NaN</td>\n",
       "      <td>NaN</td>\n",
       "      <td>NaN</td>\n",
       "      <td>NaN</td>\n",
       "      <td>37</td>\n",
       "      <td>32</td>\n",
       "      <td>19078</td>\n",
       "      <td>5009</td>\n",
       "      <td>8686</td>\n",
       "      <td>FIBRA</td>\n",
       "      <td>200MB</td>\n",
       "      <td>tv-futbol</td>\n",
       "    </tr>\n",
       "  </tbody>\n",
       "</table>\n",
       "</div>"
      ],
      "text/plain": [
       "   id  edad  facturacion           antiguedad provincia  num_lineas  num_dt  \\\n",
       "0   1    63   216.028109  11/23/2018 08:48 AM  La Rioja           5     NaN   \n",
       "1   2    84   255.830842  08/22/2017 03:19 AM   Vizcaya           3     NaN   \n",
       "2   3    66   135.768153  12/27/2001 01:50 PM  Albacete           4     NaN   \n",
       "3   4    69   255.658527  08/08/2015 10:53 AM      Lugo           4     NaN   \n",
       "4   6    51    99.348645  11/04/1997 11:43 AM    Huelva           4     NaN   \n",
       "\n",
       "  incidencia financiacion  imp_financ descuentos  num_llamad_ent  \\\n",
       "0        NaN          NaN         NaN        NaN              95   \n",
       "1        NaN          NaN         NaN         SI              44   \n",
       "2        NaN          NaN         NaN         SI              94   \n",
       "3        NaN          NaN         NaN        NaN             186   \n",
       "4        NaN          NaN         NaN        NaN              37   \n",
       "\n",
       "   num_llamad_sal  mb_datos  seg_llamad_ent  seg_llamad_sal conexion  \\\n",
       "0              19      6525            7634           18520    FIBRA   \n",
       "1              36     14471           14541            8016    FIBRA   \n",
       "2              27      1428            5248            7106     ADSL   \n",
       "3              20     20083            7372            5052    FIBRA   \n",
       "4              32     19078            5009            8686    FIBRA   \n",
       "\n",
       "  vel_conexion           TV  \n",
       "0         50MB    tv-futbol  \n",
       "1        600MB    tv-futbol  \n",
       "2         35MB    tv-futbol  \n",
       "3        200MB  tv-familiar  \n",
       "4        200MB    tv-futbol  "
      ]
     },
     "execution_count": 8,
     "metadata": {},
     "output_type": "execute_result"
    }
   ],
   "source": [
    "# Lo mismo con enero\n",
    "    # Leer datos\n",
    "ene_clientes = pd.read_csv('enero/clientes_enero.csv', sep='|')\n",
    "ene_financiacion = pd.read_csv('enero/financiacion_enero.csv', sep='|')\n",
    "ene_consumos = pd.read_csv('enero/consumos_enero.csv', sep='|')\n",
    "ene_productos = pd.read_csv('enero/productos_enero.csv', sep='|')\n",
    "    # Juntar tablas\n",
    "ene1 = pd.merge(ene_clientes, ene_financiacion, on='id', how='left')\n",
    "ene2 = pd.merge(ene1, ene_consumos, on='id', how='left')\n",
    "ene_final = pd.merge(ene2, ene_productos, on='id', how='left')\n",
    "ene_final.head() "
   ]
  },
  {
   "cell_type": "code",
   "execution_count": 9,
   "metadata": {},
   "outputs": [
    {
     "data": {
      "text/plain": [
       "(92711, 19)"
      ]
     },
     "execution_count": 9,
     "metadata": {},
     "output_type": "execute_result"
    }
   ],
   "source": [
    "ene_final.shape"
   ]
  },
  {
   "cell_type": "markdown",
   "metadata": {},
   "source": [
    "## Crear variable target"
   ]
  },
  {
   "cell_type": "markdown",
   "metadata": {},
   "source": [
    "Mi variable objetivo (target) son los clientes que se han ido o permanencen entre enero y diciembre\n",
    "\n",
    "¿Cómo lo hago?\n",
    "\n",
    "Unión de la tabla de enero a la de diciembre por ID con el método outer, creando una nueva columna que llamo target con 3 valores:\n",
    "    - both: id que estan en las dos tablas, es decir, clientes que se han quedado\n",
    "    - left only: solo estan en la tabla de diciembre, es decir, clientes que se han ido\n",
    "    - right only: solo en la tabla de enero, es decir, clientes nuevos\n",
    "Esta nueva columna target se une a diciembre con el método left de manera que tenemos los valores both y left_only que paso a dummy\n",
    "    - 1 = Both, clientes que permanencen porque estan tanto en la tabla de diciembre como en la de enero\n",
    "    - 0 = Left_only, clientes que se van porque estan solo en la tabla de diciembre"
   ]
  },
  {
   "cell_type": "code",
   "execution_count": 10,
   "metadata": {
    "scrolled": true
   },
   "outputs": [],
   "source": [
    "# Sacar variable target: quién se ha ido de diciembre a enero       \n",
    "y = pd.merge(dic_final['id'], ene_final['id'], how='outer', indicator='target') \n",
    "# Me interesan los clientes que están en ambas columnas (both), es decir, permanecen \n",
    "# y los que están solo en diciembre (left_only), es decir, se han ido\n",
    "# los que están solo en enero (right_only) no me interesan porque son nuevos clientes de enero\n",
    "\n",
    "# Para ello junto esta nueva columna al dataframe de diciembre por left y así unirá solo las comunes o solo estén en diciembre\n",
    "dic_final = pd.merge(dic_final, y, on= 'id', how='left')"
   ]
  },
  {
   "cell_type": "code",
   "execution_count": 11,
   "metadata": {},
   "outputs": [],
   "source": [
    "# Paso a dummy mi nueva variable: 1 será si permanece, 0 si se va\n",
    "dic_final['target'] = dic_final['target'].map( {'both': 1, 'left_only': 0} ).astype(int)"
   ]
  },
  {
   "cell_type": "markdown",
   "metadata": {},
   "source": [
    "Cuento los valores distintos de mi nueva variable target, viendo que está bastante desbalanceada a favor de clientes que permanencen (1).\n",
    "Esto va a influir en los modelos posteriores, creando una falsa impresión de que el modelo funciona bien u overfitting y lo tendré que tener en cuenta a la hora de mejorar el modelo."
   ]
  },
  {
   "cell_type": "code",
   "execution_count": 12,
   "metadata": {},
   "outputs": [
    {
     "name": "stdout",
     "output_type": "stream",
     "text": [
      "target\n",
      "0     7085\n",
      "1    88382\n",
      "dtype: int64\n"
     ]
    }
   ],
   "source": [
    "print(dic_final.groupby('target').size())"
   ]
  },
  {
   "cell_type": "code",
   "execution_count": 13,
   "metadata": {},
   "outputs": [
    {
     "data": {
      "text/html": [
       "<div>\n",
       "<style scoped>\n",
       "    .dataframe tbody tr th:only-of-type {\n",
       "        vertical-align: middle;\n",
       "    }\n",
       "\n",
       "    .dataframe tbody tr th {\n",
       "        vertical-align: top;\n",
       "    }\n",
       "\n",
       "    .dataframe thead th {\n",
       "        text-align: right;\n",
       "    }\n",
       "</style>\n",
       "<table border=\"1\" class=\"dataframe\">\n",
       "  <thead>\n",
       "    <tr style=\"text-align: right;\">\n",
       "      <th></th>\n",
       "      <th>id</th>\n",
       "      <th>edad</th>\n",
       "      <th>facturacion</th>\n",
       "      <th>antiguedad</th>\n",
       "      <th>provincia</th>\n",
       "      <th>num_lineas</th>\n",
       "      <th>num_dt</th>\n",
       "      <th>incidencia</th>\n",
       "      <th>financiacion</th>\n",
       "      <th>imp_financ</th>\n",
       "      <th>descuentos</th>\n",
       "      <th>num_llamad_ent</th>\n",
       "      <th>num_llamad_sal</th>\n",
       "      <th>mb_datos</th>\n",
       "      <th>seg_llamad_ent</th>\n",
       "      <th>seg_llamad_sal</th>\n",
       "      <th>conexion</th>\n",
       "      <th>vel_conexion</th>\n",
       "      <th>TV</th>\n",
       "      <th>target</th>\n",
       "    </tr>\n",
       "  </thead>\n",
       "  <tbody>\n",
       "    <tr>\n",
       "      <td>0</td>\n",
       "      <td>1</td>\n",
       "      <td>63</td>\n",
       "      <td>216.028109</td>\n",
       "      <td>11/23/2018 08:48 AM</td>\n",
       "      <td>La Rioja</td>\n",
       "      <td>5</td>\n",
       "      <td>NaN</td>\n",
       "      <td>NaN</td>\n",
       "      <td>NaN</td>\n",
       "      <td>NaN</td>\n",
       "      <td>NaN</td>\n",
       "      <td>110</td>\n",
       "      <td>79</td>\n",
       "      <td>10897</td>\n",
       "      <td>12806</td>\n",
       "      <td>13751</td>\n",
       "      <td>FIBRA</td>\n",
       "      <td>50MB</td>\n",
       "      <td>tv-futbol</td>\n",
       "      <td>1</td>\n",
       "    </tr>\n",
       "    <tr>\n",
       "      <td>1</td>\n",
       "      <td>2</td>\n",
       "      <td>84</td>\n",
       "      <td>255.830842</td>\n",
       "      <td>08/22/2017 03:19 AM</td>\n",
       "      <td>Vizcaya</td>\n",
       "      <td>3</td>\n",
       "      <td>NaN</td>\n",
       "      <td>NaN</td>\n",
       "      <td>NaN</td>\n",
       "      <td>NaN</td>\n",
       "      <td>SI</td>\n",
       "      <td>189</td>\n",
       "      <td>89</td>\n",
       "      <td>18657</td>\n",
       "      <td>6499</td>\n",
       "      <td>10862</td>\n",
       "      <td>FIBRA</td>\n",
       "      <td>600MB</td>\n",
       "      <td>tv-futbol</td>\n",
       "      <td>1</td>\n",
       "    </tr>\n",
       "    <tr>\n",
       "      <td>2</td>\n",
       "      <td>3</td>\n",
       "      <td>66</td>\n",
       "      <td>135.768153</td>\n",
       "      <td>12/27/2001 01:50 PM</td>\n",
       "      <td>Albacete</td>\n",
       "      <td>4</td>\n",
       "      <td>NaN</td>\n",
       "      <td>NaN</td>\n",
       "      <td>NaN</td>\n",
       "      <td>NaN</td>\n",
       "      <td>SI</td>\n",
       "      <td>129</td>\n",
       "      <td>30</td>\n",
       "      <td>15511</td>\n",
       "      <td>17013</td>\n",
       "      <td>16743</td>\n",
       "      <td>ADSL</td>\n",
       "      <td>35MB</td>\n",
       "      <td>tv-futbol</td>\n",
       "      <td>1</td>\n",
       "    </tr>\n",
       "    <tr>\n",
       "      <td>3</td>\n",
       "      <td>4</td>\n",
       "      <td>69</td>\n",
       "      <td>255.658527</td>\n",
       "      <td>08/08/2015 10:53 AM</td>\n",
       "      <td>Lugo</td>\n",
       "      <td>4</td>\n",
       "      <td>NaN</td>\n",
       "      <td>NaN</td>\n",
       "      <td>NaN</td>\n",
       "      <td>NaN</td>\n",
       "      <td>NaN</td>\n",
       "      <td>51</td>\n",
       "      <td>52</td>\n",
       "      <td>12670</td>\n",
       "      <td>3393</td>\n",
       "      <td>6771</td>\n",
       "      <td>FIBRA</td>\n",
       "      <td>200MB</td>\n",
       "      <td>tv-familiar</td>\n",
       "      <td>1</td>\n",
       "    </tr>\n",
       "    <tr>\n",
       "      <td>4</td>\n",
       "      <td>5</td>\n",
       "      <td>25</td>\n",
       "      <td>22.302845</td>\n",
       "      <td>08/29/1997 02:19 AM</td>\n",
       "      <td>Tarragona</td>\n",
       "      <td>2</td>\n",
       "      <td>2.0</td>\n",
       "      <td>NaN</td>\n",
       "      <td>NaN</td>\n",
       "      <td>NaN</td>\n",
       "      <td>NaN</td>\n",
       "      <td>183</td>\n",
       "      <td>3</td>\n",
       "      <td>23756</td>\n",
       "      <td>18436</td>\n",
       "      <td>4485</td>\n",
       "      <td>ADSL</td>\n",
       "      <td>10MB</td>\n",
       "      <td>tv-futbol</td>\n",
       "      <td>0</td>\n",
       "    </tr>\n",
       "  </tbody>\n",
       "</table>\n",
       "</div>"
      ],
      "text/plain": [
       "   id  edad  facturacion           antiguedad  provincia  num_lineas  num_dt  \\\n",
       "0   1    63   216.028109  11/23/2018 08:48 AM   La Rioja           5     NaN   \n",
       "1   2    84   255.830842  08/22/2017 03:19 AM    Vizcaya           3     NaN   \n",
       "2   3    66   135.768153  12/27/2001 01:50 PM   Albacete           4     NaN   \n",
       "3   4    69   255.658527  08/08/2015 10:53 AM       Lugo           4     NaN   \n",
       "4   5    25    22.302845  08/29/1997 02:19 AM  Tarragona           2     2.0   \n",
       "\n",
       "  incidencia financiacion  imp_financ descuentos  num_llamad_ent  \\\n",
       "0        NaN          NaN         NaN        NaN             110   \n",
       "1        NaN          NaN         NaN         SI             189   \n",
       "2        NaN          NaN         NaN         SI             129   \n",
       "3        NaN          NaN         NaN        NaN              51   \n",
       "4        NaN          NaN         NaN        NaN             183   \n",
       "\n",
       "   num_llamad_sal  mb_datos  seg_llamad_ent  seg_llamad_sal conexion  \\\n",
       "0              79     10897           12806           13751    FIBRA   \n",
       "1              89     18657            6499           10862    FIBRA   \n",
       "2              30     15511           17013           16743     ADSL   \n",
       "3              52     12670            3393            6771    FIBRA   \n",
       "4               3     23756           18436            4485     ADSL   \n",
       "\n",
       "  vel_conexion           TV  target  \n",
       "0         50MB    tv-futbol       1  \n",
       "1        600MB    tv-futbol       1  \n",
       "2         35MB    tv-futbol       1  \n",
       "3        200MB  tv-familiar       1  \n",
       "4         10MB    tv-futbol       0  "
      ]
     },
     "execution_count": 13,
     "metadata": {},
     "output_type": "execute_result"
    }
   ],
   "source": [
    "dic_final.head()"
   ]
  },
  {
   "cell_type": "markdown",
   "metadata": {},
   "source": [
    "# 2. Preprocesado y limpieza de datos"
   ]
  },
  {
   "cell_type": "markdown",
   "metadata": {},
   "source": [
    "Para preprocesar los datos de las variables para realizar el modelo de clasificación tendré que transformar todas las variables a númericas (condición para que funcione Sklearn) y eliminar los valores nulos."
   ]
  },
  {
   "cell_type": "code",
   "execution_count": 14,
   "metadata": {
    "scrolled": false
   },
   "outputs": [
    {
     "data": {
      "text/plain": [
       "id                  int64\n",
       "edad                int64\n",
       "facturacion       float64\n",
       "antiguedad         object\n",
       "provincia          object\n",
       "num_lineas          int64\n",
       "num_dt            float64\n",
       "incidencia         object\n",
       "financiacion       object\n",
       "imp_financ        float64\n",
       "descuentos         object\n",
       "num_llamad_ent      int64\n",
       "num_llamad_sal      int64\n",
       "mb_datos            int64\n",
       "seg_llamad_ent      int64\n",
       "seg_llamad_sal      int64\n",
       "conexion           object\n",
       "vel_conexion       object\n",
       "TV                 object\n",
       "target              int32\n",
       "dtype: object"
      ]
     },
     "execution_count": 14,
     "metadata": {},
     "output_type": "execute_result"
    }
   ],
   "source": [
    "dic_final.dtypes"
   ]
  },
  {
   "cell_type": "code",
   "execution_count": 15,
   "metadata": {
    "scrolled": true
   },
   "outputs": [
    {
     "data": {
      "text/plain": [
       "id                    0\n",
       "edad                  0\n",
       "facturacion           0\n",
       "antiguedad            0\n",
       "provincia             0\n",
       "num_lineas            0\n",
       "num_dt            88950\n",
       "incidencia        90235\n",
       "financiacion      89095\n",
       "imp_financ        89095\n",
       "descuentos        76313\n",
       "num_llamad_ent        0\n",
       "num_llamad_sal        0\n",
       "mb_datos              0\n",
       "seg_llamad_ent        0\n",
       "seg_llamad_sal        0\n",
       "conexion              0\n",
       "vel_conexion          0\n",
       "TV                    0\n",
       "target                0\n",
       "dtype: int64"
      ]
     },
     "execution_count": 15,
     "metadata": {},
     "output_type": "execute_result"
    }
   ],
   "source": [
    "# ¿Hay valores nulos?\n",
    "dic_final.isnull().sum()"
   ]
  },
  {
   "cell_type": "code",
   "execution_count": 16,
   "metadata": {},
   "outputs": [],
   "source": [
    "# Separo variables\n",
    "variables_categoricas = ['antiguedad', 'provincia', 'incidencia', 'financiacion', 'descuentos', 'conexion','vel_conexion','TV']\n",
    "variables_numericas = ['id', 'edad','facturacion', 'num_lineas','num_dt', 'imp_financ','num_llamad_ent','num_llamad_sal','target']"
   ]
  },
  {
   "cell_type": "code",
   "execution_count": 17,
   "metadata": {},
   "outputs": [
    {
     "name": "stdout",
     "output_type": "stream",
     "text": [
      "12/24/2003 04:39 PM    2\n",
      "12/30/2008 04:29 PM    2\n",
      "07/26/2018 05:02 AM    2\n",
      "06/01/2011 01:32 PM    2\n",
      "03/17/2019 04:53 AM    2\n",
      "                      ..\n",
      "08/14/2001 07:14 PM    1\n",
      "03/16/2000 08:28 PM    1\n",
      "07/04/1998 10:42 AM    1\n",
      "12/21/2015 05:29 PM    1\n",
      "01/29/1995 01:30 PM    1\n",
      "Name: antiguedad, Length: 95171, dtype: int64\n",
      "Zaragoza                  1991\n",
      "Navarra                   1986\n",
      "Málaga                    1973\n",
      "Asturias                  1972\n",
      "Valencia                  1972\n",
      "Murcia                    1967\n",
      "Orense                    1958\n",
      "Alicante                  1954\n",
      "Córdoba                   1949\n",
      "Cáceres                   1945\n",
      "Burgos                    1939\n",
      "Guipúzcoa                 1936\n",
      "Álava                     1932\n",
      "Valladolid                1931\n",
      "Sevilla                   1928\n",
      "Huelva                    1924\n",
      "Santa Cruz de Tenerife    1922\n",
      "La Coruña                 1921\n",
      "Segovia                   1917\n",
      "Castellón                 1915\n",
      "Granada                   1914\n",
      "Tarragona                 1913\n",
      "Zamora                    1913\n",
      "Almería                   1912\n",
      "Soria                     1909\n",
      "Pontevedra                1907\n",
      "Madrid                    1907\n",
      "Ciudad Real               1905\n",
      "Cádiz                     1902\n",
      "Badajoz                   1900\n",
      "Islas Baleares            1899\n",
      "Barcelona                 1899\n",
      "Teruel                    1898\n",
      "Salamanca                 1898\n",
      "Ávila                     1893\n",
      "Albacete                  1889\n",
      "Jaén                      1888\n",
      "Guadalajara               1881\n",
      "Lérida                    1879\n",
      "La Rioja                  1877\n",
      "Lugo                      1871\n",
      "Toledo                    1869\n",
      "Gerona                    1864\n",
      "Palencia                  1860\n",
      "Las Palmas                1860\n",
      "Cuenca                    1855\n",
      "Cantabria                 1853\n",
      "León                      1851\n",
      "Vizcaya                   1838\n",
      "Huesca                    1831\n",
      "Name: provincia, dtype: int64\n",
      "SI    5232\n",
      "Name: incidencia, dtype: int64\n",
      "SI    6372\n",
      "Name: financiacion, dtype: int64\n",
      "SI    19154\n",
      "Name: descuentos, dtype: int64\n",
      "ADSL     47900\n",
      "FIBRA    47567\n",
      "Name: conexion, dtype: int64\n",
      "200MB    9677\n",
      "600MB    9623\n",
      "50MB     9474\n",
      "300MB    9461\n",
      "100MB    9332\n",
      "20MB     8113\n",
      "25MB     8112\n",
      "10MB     7970\n",
      "30MB     7948\n",
      "35MB     7947\n",
      "15MB     7810\n",
      "Name: vel_conexion, dtype: int64\n",
      "tv-futbol      47535\n",
      "tv-familiar    33768\n",
      "tv-total       14164\n",
      "Name: TV, dtype: int64\n"
     ]
    }
   ],
   "source": [
    "# Recorro las categóricas para ver niveles\n",
    "for i in variables_categoricas:\n",
    "    print(dic_final[i].value_counts())"
   ]
  },
  {
   "cell_type": "code",
   "execution_count": 18,
   "metadata": {},
   "outputs": [],
   "source": [
    "# Paso a binarias las que solo toman dos valores \n",
    "categoricas_binarias = ['incidencia','financiacion','descuentos']\n",
    "for j in categoricas_binarias:\n",
    "    dic_final[j] = [1 if x == 'SI' else 0 for x in dic_final[j]]"
   ]
  },
  {
   "cell_type": "code",
   "execution_count": 19,
   "metadata": {},
   "outputs": [],
   "source": [
    "# conexión, vel_conexion y TV paso a numéricas \n",
    "dic_final.conexion.replace(('ADSL','FIBRA'),\n",
    "                      (1,2),inplace=True)\n",
    "\n",
    "dic_final.TV.replace(('tv-futbol','tv-familiar','tv-total'),\n",
    "                      (1,2,3),inplace=True)"
   ]
  },
  {
   "cell_type": "code",
   "execution_count": 20,
   "metadata": {
    "scrolled": false
   },
   "outputs": [],
   "source": [
    "#vel_conexion lo hago quitando el MB del final\n",
    "dic_final['vel_conexion'] = dic_final['vel_conexion'].astype(str)\n",
    "dic_final['vel_conexion'] = dic_final['vel_conexion'].str.replace('MB','')\n",
    "dic_final['vel_conexion'] = dic_final['vel_conexion'].astype(int)"
   ]
  },
  {
   "cell_type": "code",
   "execution_count": 21,
   "metadata": {
    "scrolled": false
   },
   "outputs": [],
   "source": [
    "# antiguedad en días: fecha de hoy - fecha alta \n",
    "dic_final['antiguedad'] = dic_final['antiguedad'].astype('datetime64[ns]')\n",
    "antiguedad = (datetime.now() - dic_final['antiguedad']).dt.days\n",
    "dic_final['antiguedad'] = antiguedad"
   ]
  },
  {
   "cell_type": "code",
   "execution_count": 22,
   "metadata": {},
   "outputs": [],
   "source": [
    "# provincia con LabelEncoder para pasar a numérica\n",
    "transform1 = LabelEncoder()\n",
    "transform1.fit_transform(['La Rioja', 'Vizcaya', 'Albacete', 'Lugo', 'Tarragona', 'Huelva',\n",
    "       'Lérida', 'La Coruña', 'Alicante', 'Madrid', 'Córdoba',\n",
    "       'Las Palmas', 'Soria', 'Zamora', 'Valladolid', 'Granada',\n",
    "       'Palencia', 'Burgos', 'Teruel', 'Navarra', 'Guipúzcoa', 'Valencia',\n",
    "       'Málaga', 'Sevilla', 'Huesca', 'Cádiz', 'Jaén', 'Cuenca',\n",
    "       'Badajoz', 'Almería', 'Ciudad Real', 'Salamanca', 'Pontevedra',\n",
    "       'Segovia', 'Asturias', 'Islas Baleares', 'Álava', 'Cáceres',\n",
    "       'Orense', 'Cantabria', 'Zaragoza', 'Murcia', 'León', 'Toledo',\n",
    "       'Guadalajara', 'Ávila', 'Santa Cruz de Tenerife', 'Castellón',\n",
    "       'Gerona', 'Barcelona'])\n",
    "\n",
    "dic_final['provincia'] = transform1.transform(dic_final['provincia'])"
   ]
  },
  {
   "cell_type": "code",
   "execution_count": 23,
   "metadata": {},
   "outputs": [
    {
     "data": {
      "text/plain": [
       "id                  int64\n",
       "edad                int64\n",
       "facturacion       float64\n",
       "antiguedad          int64\n",
       "provincia           int32\n",
       "num_lineas          int64\n",
       "num_dt            float64\n",
       "incidencia          int64\n",
       "financiacion        int64\n",
       "imp_financ        float64\n",
       "descuentos          int64\n",
       "num_llamad_ent      int64\n",
       "num_llamad_sal      int64\n",
       "mb_datos            int64\n",
       "seg_llamad_ent      int64\n",
       "seg_llamad_sal      int64\n",
       "conexion            int64\n",
       "vel_conexion        int32\n",
       "TV                  int64\n",
       "target              int32\n",
       "dtype: object"
      ]
     },
     "execution_count": 23,
     "metadata": {},
     "output_type": "execute_result"
    }
   ],
   "source": [
    "dic_final.dtypes # ya son todas numéricas"
   ]
  },
  {
   "cell_type": "code",
   "execution_count": 24,
   "metadata": {
    "scrolled": true
   },
   "outputs": [
    {
     "data": {
      "text/plain": [
       "id                    0\n",
       "edad                  0\n",
       "facturacion           0\n",
       "antiguedad            0\n",
       "provincia             0\n",
       "num_lineas            0\n",
       "num_dt            88950\n",
       "incidencia            0\n",
       "financiacion          0\n",
       "imp_financ        89095\n",
       "descuentos            0\n",
       "num_llamad_ent        0\n",
       "num_llamad_sal        0\n",
       "mb_datos              0\n",
       "seg_llamad_ent        0\n",
       "seg_llamad_sal        0\n",
       "conexion              0\n",
       "vel_conexion          0\n",
       "TV                    0\n",
       "target                0\n",
       "dtype: int64"
      ]
     },
     "execution_count": 24,
     "metadata": {},
     "output_type": "execute_result"
    }
   ],
   "source": [
    "# ¿Cómo voy de nulos?\n",
    "dic_final.isnull().sum()"
   ]
  },
  {
   "cell_type": "code",
   "execution_count": 25,
   "metadata": {},
   "outputs": [],
   "source": [
    "# imp_financ y financiacion tenían el mismo número de nulos por lo que tiene sentido que si financiacion es 0 también lo sea imp_financ\n",
    "# num_dt que sean NaNs también serán 0\n",
    "\n",
    "# relleno el dataframe con 0\n",
    "dic_final = dic_final.fillna(value=0)"
   ]
  },
  {
   "cell_type": "code",
   "execution_count": 26,
   "metadata": {},
   "outputs": [
    {
     "data": {
      "text/plain": [
       "id                0\n",
       "edad              0\n",
       "facturacion       0\n",
       "antiguedad        0\n",
       "provincia         0\n",
       "num_lineas        0\n",
       "num_dt            0\n",
       "incidencia        0\n",
       "financiacion      0\n",
       "imp_financ        0\n",
       "descuentos        0\n",
       "num_llamad_ent    0\n",
       "num_llamad_sal    0\n",
       "mb_datos          0\n",
       "seg_llamad_ent    0\n",
       "seg_llamad_sal    0\n",
       "conexion          0\n",
       "vel_conexion      0\n",
       "TV                0\n",
       "target            0\n",
       "dtype: int64"
      ]
     },
     "execution_count": 26,
     "metadata": {},
     "output_type": "execute_result"
    }
   ],
   "source": [
    "dic_final.isnull().sum() # ya no hay nulos"
   ]
  },
  {
   "cell_type": "code",
   "execution_count": 27,
   "metadata": {},
   "outputs": [],
   "source": [
    "# Redondeo a dos decimales de facturación\n",
    "dic_final['facturacion'] = round(dic_final['facturacion'], 2)"
   ]
  },
  {
   "cell_type": "markdown",
   "metadata": {},
   "source": [
    "Intuyo que mi modelo va a tener overfitting por el desbalanceo de la variable target, que lo trataré en el apartado de mejora de modelos.\n",
    "\n",
    "Otra razón que produce overfitting es la colinealidad de las variables, por lo que voy a hacer un estudio VIF y eliminar aquella variable que tenga el mayor VIF y que este sea mayor de 5."
   ]
  },
  {
   "cell_type": "code",
   "execution_count": 28,
   "metadata": {},
   "outputs": [
    {
     "name": "stdout",
     "output_type": "stream",
     "text": [
      "El valor del VIF para la variable id es: 1.0000988154227723\n",
      "El valor del VIF para la variable edad es: 1.0003287546924162\n",
      "El valor del VIF para la variable facturacion es: 1.345735086211395\n",
      "El valor del VIF para la variable antiguedad es: 1.000131480178701\n",
      "El valor del VIF para la variable provincia es: 1.0002323806453326\n",
      "El valor del VIF para la variable num_lineas es: 1.277013814644401\n",
      "El valor del VIF para la variable num_dt es: 1.0001711897382748\n",
      "El valor del VIF para la variable incidencia es: 1.0001499117789374\n",
      "El valor del VIF para la variable financiacion es: 5.470001339580454\n",
      "El valor del VIF para la variable imp_financ es: 5.470634733735551\n",
      "El valor del VIF para la variable descuentos es: 1.00025404278318\n",
      "El valor del VIF para la variable num_llamad_ent es: 1.0002718881843355\n",
      "El valor del VIF para la variable num_llamad_sal es: 1.0000950332702312\n",
      "El valor del VIF para la variable mb_datos es: 1.000123450770747\n",
      "El valor del VIF para la variable seg_llamad_ent es: 1.0002219715511966\n",
      "El valor del VIF para la variable seg_llamad_sal es: 1.0001741305469767\n",
      "El valor del VIF para la variable conexion es: 1.6874413812822109\n",
      "El valor del VIF para la variable vel_conexion es: 1.6874221415893744\n",
      "El valor del VIF para la variable TV es: 1.0611471944459205\n"
     ]
    }
   ],
   "source": [
    "# Obtención del valor VIF para eliminar colinealidad (la colinealidad implica overfitting en el modelo)\n",
    "# Se calcula el valor VIF de todas las variables menos la target\n",
    "dic_vif = dic_final.copy(deep = True)\n",
    "features = list(dic_final.columns)\n",
    "features.remove('target')\n",
    "dic_vif = dic_vif[features]\n",
    "\n",
    "for i in range(len(features)):\n",
    "    var = features[i]\n",
    "    fet = features[:]\n",
    "    fet.remove(var)\n",
    "    \n",
    "    x = dic_vif[fet]\n",
    "    y = dic_final[var]\n",
    "    \n",
    "    model = LinearRegression()\n",
    "    model.fit(x, y)\n",
    "    \n",
    "    vif = 1 / (1 - model.score(x, y))\n",
    "    \n",
    "    print ('El valor del VIF para la variable', var, 'es:', vif)"
   ]
  },
  {
   "cell_type": "code",
   "execution_count": 29,
   "metadata": {
    "scrolled": true
   },
   "outputs": [
    {
     "name": "stdout",
     "output_type": "stream",
     "text": [
      "El valor del VIF para la variable id es: 1.0000977823687665\n",
      "El valor del VIF para la variable edad es: 1.0003231216815236\n",
      "El valor del VIF para la variable facturacion es: 1.3456203944780303\n",
      "El valor del VIF para la variable antiguedad es: 1.0001275282671813\n",
      "El valor del VIF para la variable provincia es: 1.000230763376868\n",
      "El valor del VIF para la variable num_lineas es: 1.276983293403767\n",
      "El valor del VIF para la variable num_dt es: 1.0001709545226112\n",
      "El valor del VIF para la variable incidencia es: 1.0001336374398677\n",
      "El valor del VIF para la variable financiacion es: 1.000933472955092\n",
      "El valor del VIF para la variable descuentos es: 1.000228948116488\n",
      "El valor del VIF para la variable num_llamad_ent es: 1.0002171203447046\n",
      "El valor del VIF para la variable num_llamad_sal es: 1.0000945357472582\n",
      "El valor del VIF para la variable mb_datos es: 1.000109087406071\n",
      "El valor del VIF para la variable seg_llamad_ent es: 1.000187113361469\n",
      "El valor del VIF para la variable seg_llamad_sal es: 1.0001719843272503\n",
      "El valor del VIF para la variable conexion es: 1.6874343515713317\n",
      "El valor del VIF para la variable vel_conexion es: 1.6874011764363162\n",
      "El valor del VIF para la variable TV es: 1.0611451458018835\n"
     ]
    }
   ],
   "source": [
    "# Se elimina la variable con mayor VIF y como ya todas tienen un valor VIF menor de 5 no existen variables con colinealidad\n",
    "features = list(dic_vif.columns)\n",
    "features.remove('imp_financ')\n",
    "dic_vif = dic_vif[features]\n",
    "\n",
    "for i in range(len(features)):\n",
    "    var = features[i]\n",
    "    fet = features[:]\n",
    "    fet.remove(var)\n",
    "    \n",
    "    x = dic_vif[fet]\n",
    "    y = dic_final[var]\n",
    "    \n",
    "    model = LinearRegression()\n",
    "    model.fit(x, y)\n",
    "    \n",
    "    vif = 1 / (1 - model.score(x, y))\n",
    "    \n",
    "    print ('El valor del VIF para la variable', var, 'es:', vif)"
   ]
  },
  {
   "cell_type": "code",
   "execution_count": 30,
   "metadata": {},
   "outputs": [
    {
     "data": {
      "text/html": [
       "<div>\n",
       "<style scoped>\n",
       "    .dataframe tbody tr th:only-of-type {\n",
       "        vertical-align: middle;\n",
       "    }\n",
       "\n",
       "    .dataframe tbody tr th {\n",
       "        vertical-align: top;\n",
       "    }\n",
       "\n",
       "    .dataframe thead th {\n",
       "        text-align: right;\n",
       "    }\n",
       "</style>\n",
       "<table border=\"1\" class=\"dataframe\">\n",
       "  <thead>\n",
       "    <tr style=\"text-align: right;\">\n",
       "      <th></th>\n",
       "      <th>id</th>\n",
       "      <th>edad</th>\n",
       "      <th>facturacion</th>\n",
       "      <th>antiguedad</th>\n",
       "      <th>provincia</th>\n",
       "      <th>num_lineas</th>\n",
       "      <th>num_dt</th>\n",
       "      <th>incidencia</th>\n",
       "      <th>financiacion</th>\n",
       "      <th>descuentos</th>\n",
       "      <th>num_llamad_ent</th>\n",
       "      <th>num_llamad_sal</th>\n",
       "      <th>mb_datos</th>\n",
       "      <th>seg_llamad_ent</th>\n",
       "      <th>seg_llamad_sal</th>\n",
       "      <th>conexion</th>\n",
       "      <th>vel_conexion</th>\n",
       "      <th>TV</th>\n",
       "      <th>target</th>\n",
       "    </tr>\n",
       "  </thead>\n",
       "  <tbody>\n",
       "    <tr>\n",
       "      <td>0</td>\n",
       "      <td>1</td>\n",
       "      <td>63</td>\n",
       "      <td>216.03</td>\n",
       "      <td>502</td>\n",
       "      <td>23</td>\n",
       "      <td>5</td>\n",
       "      <td>0.0</td>\n",
       "      <td>0</td>\n",
       "      <td>0</td>\n",
       "      <td>0</td>\n",
       "      <td>110</td>\n",
       "      <td>79</td>\n",
       "      <td>10897</td>\n",
       "      <td>12806</td>\n",
       "      <td>13751</td>\n",
       "      <td>2</td>\n",
       "      <td>50</td>\n",
       "      <td>1</td>\n",
       "      <td>1</td>\n",
       "    </tr>\n",
       "    <tr>\n",
       "      <td>1</td>\n",
       "      <td>2</td>\n",
       "      <td>84</td>\n",
       "      <td>255.83</td>\n",
       "      <td>960</td>\n",
       "      <td>45</td>\n",
       "      <td>3</td>\n",
       "      <td>0.0</td>\n",
       "      <td>0</td>\n",
       "      <td>0</td>\n",
       "      <td>1</td>\n",
       "      <td>189</td>\n",
       "      <td>89</td>\n",
       "      <td>18657</td>\n",
       "      <td>6499</td>\n",
       "      <td>10862</td>\n",
       "      <td>2</td>\n",
       "      <td>600</td>\n",
       "      <td>1</td>\n",
       "      <td>1</td>\n",
       "    </tr>\n",
       "    <tr>\n",
       "      <td>2</td>\n",
       "      <td>3</td>\n",
       "      <td>66</td>\n",
       "      <td>135.77</td>\n",
       "      <td>6677</td>\n",
       "      <td>0</td>\n",
       "      <td>4</td>\n",
       "      <td>0.0</td>\n",
       "      <td>0</td>\n",
       "      <td>0</td>\n",
       "      <td>1</td>\n",
       "      <td>129</td>\n",
       "      <td>30</td>\n",
       "      <td>15511</td>\n",
       "      <td>17013</td>\n",
       "      <td>16743</td>\n",
       "      <td>1</td>\n",
       "      <td>35</td>\n",
       "      <td>1</td>\n",
       "      <td>1</td>\n",
       "    </tr>\n",
       "    <tr>\n",
       "      <td>3</td>\n",
       "      <td>4</td>\n",
       "      <td>69</td>\n",
       "      <td>255.66</td>\n",
       "      <td>1705</td>\n",
       "      <td>26</td>\n",
       "      <td>4</td>\n",
       "      <td>0.0</td>\n",
       "      <td>0</td>\n",
       "      <td>0</td>\n",
       "      <td>0</td>\n",
       "      <td>51</td>\n",
       "      <td>52</td>\n",
       "      <td>12670</td>\n",
       "      <td>3393</td>\n",
       "      <td>6771</td>\n",
       "      <td>2</td>\n",
       "      <td>200</td>\n",
       "      <td>2</td>\n",
       "      <td>1</td>\n",
       "    </tr>\n",
       "    <tr>\n",
       "      <td>4</td>\n",
       "      <td>5</td>\n",
       "      <td>25</td>\n",
       "      <td>22.30</td>\n",
       "      <td>8258</td>\n",
       "      <td>40</td>\n",
       "      <td>2</td>\n",
       "      <td>2.0</td>\n",
       "      <td>0</td>\n",
       "      <td>0</td>\n",
       "      <td>0</td>\n",
       "      <td>183</td>\n",
       "      <td>3</td>\n",
       "      <td>23756</td>\n",
       "      <td>18436</td>\n",
       "      <td>4485</td>\n",
       "      <td>1</td>\n",
       "      <td>10</td>\n",
       "      <td>1</td>\n",
       "      <td>0</td>\n",
       "    </tr>\n",
       "  </tbody>\n",
       "</table>\n",
       "</div>"
      ],
      "text/plain": [
       "   id  edad  facturacion  antiguedad  provincia  num_lineas  num_dt  \\\n",
       "0   1    63       216.03         502         23           5     0.0   \n",
       "1   2    84       255.83         960         45           3     0.0   \n",
       "2   3    66       135.77        6677          0           4     0.0   \n",
       "3   4    69       255.66        1705         26           4     0.0   \n",
       "4   5    25        22.30        8258         40           2     2.0   \n",
       "\n",
       "   incidencia  financiacion  descuentos  num_llamad_ent  num_llamad_sal  \\\n",
       "0           0             0           0             110              79   \n",
       "1           0             0           1             189              89   \n",
       "2           0             0           1             129              30   \n",
       "3           0             0           0              51              52   \n",
       "4           0             0           0             183               3   \n",
       "\n",
       "   mb_datos  seg_llamad_ent  seg_llamad_sal  conexion  vel_conexion  TV  \\\n",
       "0     10897           12806           13751         2            50   1   \n",
       "1     18657            6499           10862         2           600   1   \n",
       "2     15511           17013           16743         1            35   1   \n",
       "3     12670            3393            6771         2           200   2   \n",
       "4     23756           18436            4485         1            10   1   \n",
       "\n",
       "   target  \n",
       "0       1  \n",
       "1       1  \n",
       "2       1  \n",
       "3       1  \n",
       "4       0  "
      ]
     },
     "execution_count": 30,
     "metadata": {},
     "output_type": "execute_result"
    }
   ],
   "source": [
    "dic_final = dic_final.drop(['imp_financ'], axis=1)\n",
    "dic_final.head() # tabla de diciembre limpia"
   ]
  },
  {
   "cell_type": "markdown",
   "metadata": {},
   "source": [
    "# 3. Conjuntos train y test"
   ]
  },
  {
   "cell_type": "markdown",
   "metadata": {},
   "source": [
    "Separación del conjunto de datos en train y test. El 80% de los datos de diciembre los voy a utilizar para entrenar el modelo mientras que el 20% restante servirán para validarlo.\n",
    "\n",
    "Aquí también observamos que la variable target está desbalanceada."
   ]
  },
  {
   "cell_type": "code",
   "execution_count": 31,
   "metadata": {
    "scrolled": true
   },
   "outputs": [
    {
     "data": {
      "text/html": [
       "<div>\n",
       "<style scoped>\n",
       "    .dataframe tbody tr th:only-of-type {\n",
       "        vertical-align: middle;\n",
       "    }\n",
       "\n",
       "    .dataframe tbody tr th {\n",
       "        vertical-align: top;\n",
       "    }\n",
       "\n",
       "    .dataframe thead th {\n",
       "        text-align: right;\n",
       "    }\n",
       "</style>\n",
       "<table border=\"1\" class=\"dataframe\">\n",
       "  <thead>\n",
       "    <tr style=\"text-align: right;\">\n",
       "      <th></th>\n",
       "      <th>edad</th>\n",
       "      <th>facturacion</th>\n",
       "      <th>antiguedad</th>\n",
       "      <th>provincia</th>\n",
       "      <th>num_lineas</th>\n",
       "      <th>num_dt</th>\n",
       "      <th>incidencia</th>\n",
       "      <th>financiacion</th>\n",
       "      <th>descuentos</th>\n",
       "      <th>num_llamad_ent</th>\n",
       "      <th>num_llamad_sal</th>\n",
       "      <th>mb_datos</th>\n",
       "      <th>seg_llamad_ent</th>\n",
       "      <th>seg_llamad_sal</th>\n",
       "      <th>conexion</th>\n",
       "      <th>vel_conexion</th>\n",
       "      <th>TV</th>\n",
       "      <th>target</th>\n",
       "    </tr>\n",
       "    <tr>\n",
       "      <th>id</th>\n",
       "      <th></th>\n",
       "      <th></th>\n",
       "      <th></th>\n",
       "      <th></th>\n",
       "      <th></th>\n",
       "      <th></th>\n",
       "      <th></th>\n",
       "      <th></th>\n",
       "      <th></th>\n",
       "      <th></th>\n",
       "      <th></th>\n",
       "      <th></th>\n",
       "      <th></th>\n",
       "      <th></th>\n",
       "      <th></th>\n",
       "      <th></th>\n",
       "      <th></th>\n",
       "      <th></th>\n",
       "    </tr>\n",
       "  </thead>\n",
       "  <tbody>\n",
       "    <tr>\n",
       "      <td>1</td>\n",
       "      <td>63</td>\n",
       "      <td>216.03</td>\n",
       "      <td>502</td>\n",
       "      <td>23</td>\n",
       "      <td>5</td>\n",
       "      <td>0.0</td>\n",
       "      <td>0</td>\n",
       "      <td>0</td>\n",
       "      <td>0</td>\n",
       "      <td>110</td>\n",
       "      <td>79</td>\n",
       "      <td>10897</td>\n",
       "      <td>12806</td>\n",
       "      <td>13751</td>\n",
       "      <td>2</td>\n",
       "      <td>50</td>\n",
       "      <td>1</td>\n",
       "      <td>1</td>\n",
       "    </tr>\n",
       "    <tr>\n",
       "      <td>2</td>\n",
       "      <td>84</td>\n",
       "      <td>255.83</td>\n",
       "      <td>960</td>\n",
       "      <td>45</td>\n",
       "      <td>3</td>\n",
       "      <td>0.0</td>\n",
       "      <td>0</td>\n",
       "      <td>0</td>\n",
       "      <td>1</td>\n",
       "      <td>189</td>\n",
       "      <td>89</td>\n",
       "      <td>18657</td>\n",
       "      <td>6499</td>\n",
       "      <td>10862</td>\n",
       "      <td>2</td>\n",
       "      <td>600</td>\n",
       "      <td>1</td>\n",
       "      <td>1</td>\n",
       "    </tr>\n",
       "    <tr>\n",
       "      <td>3</td>\n",
       "      <td>66</td>\n",
       "      <td>135.77</td>\n",
       "      <td>6677</td>\n",
       "      <td>0</td>\n",
       "      <td>4</td>\n",
       "      <td>0.0</td>\n",
       "      <td>0</td>\n",
       "      <td>0</td>\n",
       "      <td>1</td>\n",
       "      <td>129</td>\n",
       "      <td>30</td>\n",
       "      <td>15511</td>\n",
       "      <td>17013</td>\n",
       "      <td>16743</td>\n",
       "      <td>1</td>\n",
       "      <td>35</td>\n",
       "      <td>1</td>\n",
       "      <td>1</td>\n",
       "    </tr>\n",
       "    <tr>\n",
       "      <td>4</td>\n",
       "      <td>69</td>\n",
       "      <td>255.66</td>\n",
       "      <td>1705</td>\n",
       "      <td>26</td>\n",
       "      <td>4</td>\n",
       "      <td>0.0</td>\n",
       "      <td>0</td>\n",
       "      <td>0</td>\n",
       "      <td>0</td>\n",
       "      <td>51</td>\n",
       "      <td>52</td>\n",
       "      <td>12670</td>\n",
       "      <td>3393</td>\n",
       "      <td>6771</td>\n",
       "      <td>2</td>\n",
       "      <td>200</td>\n",
       "      <td>2</td>\n",
       "      <td>1</td>\n",
       "    </tr>\n",
       "    <tr>\n",
       "      <td>5</td>\n",
       "      <td>25</td>\n",
       "      <td>22.30</td>\n",
       "      <td>8258</td>\n",
       "      <td>40</td>\n",
       "      <td>2</td>\n",
       "      <td>2.0</td>\n",
       "      <td>0</td>\n",
       "      <td>0</td>\n",
       "      <td>0</td>\n",
       "      <td>183</td>\n",
       "      <td>3</td>\n",
       "      <td>23756</td>\n",
       "      <td>18436</td>\n",
       "      <td>4485</td>\n",
       "      <td>1</td>\n",
       "      <td>10</td>\n",
       "      <td>1</td>\n",
       "      <td>0</td>\n",
       "    </tr>\n",
       "  </tbody>\n",
       "</table>\n",
       "</div>"
      ],
      "text/plain": [
       "    edad  facturacion  antiguedad  provincia  num_lineas  num_dt  incidencia  \\\n",
       "id                                                                             \n",
       "1     63       216.03         502         23           5     0.0           0   \n",
       "2     84       255.83         960         45           3     0.0           0   \n",
       "3     66       135.77        6677          0           4     0.0           0   \n",
       "4     69       255.66        1705         26           4     0.0           0   \n",
       "5     25        22.30        8258         40           2     2.0           0   \n",
       "\n",
       "    financiacion  descuentos  num_llamad_ent  num_llamad_sal  mb_datos  \\\n",
       "id                                                                       \n",
       "1              0           0             110              79     10897   \n",
       "2              0           1             189              89     18657   \n",
       "3              0           1             129              30     15511   \n",
       "4              0           0              51              52     12670   \n",
       "5              0           0             183               3     23756   \n",
       "\n",
       "    seg_llamad_ent  seg_llamad_sal  conexion  vel_conexion  TV  target  \n",
       "id                                                                      \n",
       "1            12806           13751         2            50   1       1  \n",
       "2             6499           10862         2           600   1       1  \n",
       "3            17013           16743         1            35   1       1  \n",
       "4             3393            6771         2           200   2       1  \n",
       "5            18436            4485         1            10   1       0  "
      ]
     },
     "execution_count": 31,
     "metadata": {},
     "output_type": "execute_result"
    }
   ],
   "source": [
    "dic_final.set_index(['id'], inplace=True) #id lo convierto en índice de la tabla\n",
    "dic_final.head()"
   ]
  },
  {
   "cell_type": "code",
   "execution_count": 32,
   "metadata": {},
   "outputs": [],
   "source": [
    "# Definición de variables\n",
    "y = pd.DataFrame(dic_final['target']) #objetivo\n",
    "x = pd.DataFrame(dic_final.iloc[:,:-1]) #todas menos la target y la variabla colineal (imp_financ ya eliminada)"
   ]
  },
  {
   "cell_type": "code",
   "execution_count": 33,
   "metadata": {},
   "outputs": [],
   "source": [
    "# Creación de train y test\n",
    "x_train,x_test,y_train,y_test = train_test_split(x, y, test_size = 0.2)"
   ]
  },
  {
   "cell_type": "code",
   "execution_count": 34,
   "metadata": {},
   "outputs": [
    {
     "data": {
      "text/plain": [
       "76373"
      ]
     },
     "execution_count": 34,
     "metadata": {},
     "output_type": "execute_result"
    }
   ],
   "source": [
    "# Comprobar longitud\n",
    "len(x_train)"
   ]
  },
  {
   "cell_type": "code",
   "execution_count": 35,
   "metadata": {},
   "outputs": [
    {
     "data": {
      "text/plain": [
       "19094"
      ]
     },
     "execution_count": 35,
     "metadata": {},
     "output_type": "execute_result"
    }
   ],
   "source": [
    "len(x_test)"
   ]
  },
  {
   "cell_type": "code",
   "execution_count": 36,
   "metadata": {},
   "outputs": [
    {
     "data": {
      "text/plain": [
       "76373"
      ]
     },
     "execution_count": 36,
     "metadata": {},
     "output_type": "execute_result"
    }
   ],
   "source": [
    "len(y_train)"
   ]
  },
  {
   "cell_type": "code",
   "execution_count": 37,
   "metadata": {},
   "outputs": [
    {
     "data": {
      "text/plain": [
       "19094"
      ]
     },
     "execution_count": 37,
     "metadata": {},
     "output_type": "execute_result"
    }
   ],
   "source": [
    "len(y_test)"
   ]
  },
  {
   "cell_type": "code",
   "execution_count": 38,
   "metadata": {
    "scrolled": true
   },
   "outputs": [
    {
     "data": {
      "text/plain": [
       "1    70673\n",
       "0     5700\n",
       "Name: target, dtype: int64"
      ]
     },
     "execution_count": 38,
     "metadata": {},
     "output_type": "execute_result"
    }
   ],
   "source": [
    "y_train2 = pd.DataFrame(y_train) \n",
    "y_train2['target'].value_counts()"
   ]
  },
  {
   "cell_type": "code",
   "execution_count": 39,
   "metadata": {},
   "outputs": [
    {
     "data": {
      "text/plain": [
       "1    17709\n",
       "0     1385\n",
       "Name: target, dtype: int64"
      ]
     },
     "execution_count": 39,
     "metadata": {},
     "output_type": "execute_result"
    }
   ],
   "source": [
    "y_test2 = pd.DataFrame(y_test) \n",
    "y_test2['target'].value_counts()"
   ]
  },
  {
   "cell_type": "markdown",
   "metadata": {},
   "source": [
    "Nota: estas dos distribuciones cambian ligeramente cada vez que se ejecuta el ejercicio. Eso puede influir ligeramente en los resultados de los posteriores modelos"
   ]
  },
  {
   "cell_type": "code",
   "execution_count": 40,
   "metadata": {},
   "outputs": [
    {
     "data": {
      "text/plain": [
       "0.93"
      ]
     },
     "execution_count": 40,
     "metadata": {},
     "output_type": "execute_result"
    }
   ],
   "source": [
    "# Comprobar que tanto en train como en test el % de 0 y 1 es el mismo\n",
    "y_train_1 = round(70673/76373,2)\n",
    "y_train_1"
   ]
  },
  {
   "cell_type": "code",
   "execution_count": 41,
   "metadata": {},
   "outputs": [
    {
     "data": {
      "text/plain": [
       "0.93"
      ]
     },
     "execution_count": 41,
     "metadata": {},
     "output_type": "execute_result"
    }
   ],
   "source": [
    "y_test_1 = round(17709/19094,2)\n",
    "y_test_1"
   ]
  },
  {
   "cell_type": "markdown",
   "metadata": {},
   "source": [
    "# 4. Modelos de clasificación con limpieza de datos básica"
   ]
  },
  {
   "cell_type": "markdown",
   "metadata": {},
   "source": [
    "A continuación se muestran varios modelos de clasificación estudiados en el módulo. \n",
    "\n",
    "Para evaluar los modelos nos fijamos en la métrica de la función saca_métricas:\n",
    "\n",
    "### Métricas:\n",
    "\n",
    "- La **matriz de confusión** nos muestra la efectividad del modelo, cuánto acierta y cuánto falla. \n",
    "Todos los modelos mostrados a continuación tienen un alto índice de predicciones correctas (dadas con la diagonal principal) sobre todo, de verdaderos positivos, a excepción del modelo SVC que no cuenta con casos negativos (ni falsos ni reales). Bien es cierto, que los datos de entrada tiene mayor porcentaje de 1 que de 0, lo que influye en el desequilibrio de verdaderos positivos con respecto a verdaderos negativos\n",
    "\n",
    "- Puesto que las matrices de confusión tienen un alto índice de predicciones correctas se refleja en el resto de métricas:\n",
    "    - **Accuracy**: es alta puesto que el número de verdaderos positivos de la matriz de confusión es alto\n",
    "    - **Precision**: la dispersión de los valores obtenidos es muy baja, pues la proporción de predicciones correctas es alta, por ello, la precisión es buena\n",
    "    - **Recall** o tasa de verdaderos positivos: la proporción de casos positivos (clientes que se quedan en la compañía) que han sido correctamente identificados por el algoritmo es también alta\n",
    "    - **F1** o combinación del Accuracy y Precision del modelo: puesto que ambas son altas, también lo es el F1\n",
    "    \n",
    "- La **curva ROC** nos muestra la sensibilidad frente a la especificidad, es decir, el ratio de verdaderos positivos frente a falsos positivos. \n",
    "Nos fijamos en el área que queda bajo esta curva, siendo lo óptimo AUC = 1 y lo peor AUC = 0.5\n",
    "    - Los modelos de Regresión logística y Árbol de decisión dan un AUC de 0.87 y 0.89 respectivamente, bastante buenos \n",
    "    - El modelo SVC nos da una AUC = 0.5, lo peor que nos podría salir ya que demuestra total azar. (Nota: tarda muchísimo en ejecutarse, no lo recomiendo si lo estás ejecutando para la correción)\n",
    "    - El Naives Bayes nos dan un AUC excelente, 0.92 "
   ]
  },
  {
   "cell_type": "code",
   "execution_count": 45,
   "metadata": {},
   "outputs": [],
   "source": [
    "# Función dada en clase para sacar métricas de evaluación del modelo\n",
    "def saca_metricas(y1, y2):\n",
    "    print('matriz de confusión')\n",
    "    print(confusion_matrix(y1, y2))\n",
    "    print('accuracy')\n",
    "    print(accuracy_score(y1, y2))\n",
    "    print('precision')\n",
    "    print(precision_score(y1, y2))\n",
    "    print('recall')\n",
    "    print(recall_score(y1, y2))\n",
    "    print('f1')\n",
    "    print(f1_score(y1, y2))\n",
    "    false_positive_rate, recall, thresholds = roc_curve(y1, y2)\n",
    "    roc_auc = auc(false_positive_rate, recall)\n",
    "    print('AUC')\n",
    "    print(roc_auc)\n",
    "    plt.plot(false_positive_rate, recall, 'b')\n",
    "    plt.plot([0, 1], [0, 1], 'r--')\n",
    "    plt.title('AUC = %0.2f' % roc_auc)  "
   ]
  },
  {
   "cell_type": "markdown",
   "metadata": {},
   "source": [
    "### Modelo 1: Regresión logística"
   ]
  },
  {
   "cell_type": "code",
   "execution_count": 46,
   "metadata": {
    "scrolled": true
   },
   "outputs": [
    {
     "name": "stderr",
     "output_type": "stream",
     "text": [
      "C:\\Users\\isabe\\Anaconda3\\lib\\site-packages\\sklearn\\linear_model\\logistic.py:432: FutureWarning: Default solver will be changed to 'lbfgs' in 0.22. Specify a solver to silence this warning.\n",
      "  FutureWarning)\n",
      "C:\\Users\\isabe\\Anaconda3\\lib\\site-packages\\sklearn\\utils\\validation.py:724: DataConversionWarning: A column-vector y was passed when a 1d array was expected. Please change the shape of y to (n_samples, ), for example using ravel().\n",
      "  y = column_or_1d(y, warn=True)\n"
     ]
    }
   ],
   "source": [
    "classifier = LogisticRegression().fit(x_train, y_train)\n",
    "y_pred     = classifier.predict(x_test)"
   ]
  },
  {
   "cell_type": "code",
   "execution_count": 47,
   "metadata": {
    "scrolled": true
   },
   "outputs": [
    {
     "name": "stdout",
     "output_type": "stream",
     "text": [
      "matriz de confusión\n",
      "[[ 1053   332]\n",
      " [  298 17411]]\n",
      "accuracy\n",
      "0.9670053419922489\n",
      "precision\n",
      "0.9812883954235473\n",
      "recall\n",
      "0.9831723982155965\n",
      "f1\n",
      "0.982229493399526\n",
      "AUC\n",
      "0.8717306034399284\n"
     ]
    },
    {
     "data": {
      "image/png": "[encoded data removed]",
      "text/plain": [
       "<Figure size 432x288 with 1 Axes>"
      ]
     },
     "metadata": {
      "needs_background": "light"
     },
     "output_type": "display_data"
    }
   ],
   "source": [
    "saca_metricas(y_test, y_pred)"
   ]
  },
  {
   "cell_type": "markdown",
   "metadata": {},
   "source": [
    "### Modelo 2: Árbol de decisión"
   ]
  },
  {
   "cell_type": "code",
   "execution_count": 48,
   "metadata": {},
   "outputs": [],
   "source": [
    "dt_classifier = DecisionTreeClassifier().fit(x_train, y_train)\n",
    "y_pred        = dt_classifier.predict(x_test)"
   ]
  },
  {
   "cell_type": "code",
   "execution_count": 49,
   "metadata": {
    "scrolled": true
   },
   "outputs": [
    {
     "name": "stdout",
     "output_type": "stream",
     "text": [
      "matriz de confusión\n",
      "[[ 1107   278]\n",
      " [  245 17464]]\n",
      "accuracy\n",
      "0.9726091966062638\n",
      "precision\n",
      "0.9843309660692143\n",
      "recall\n",
      "0.9861652267208764\n",
      "f1\n",
      "0.9852472426729851\n",
      "AUC\n",
      "0.8927216025301133\n"
     ]
    },
    {
     "data": {
      "image/png": "[encoded data removed]",
      "text/plain": [
       "<Figure size 432x288 with 1 Axes>"
      ]
     },
     "metadata": {
      "needs_background": "light"
     },
     "output_type": "display_data"
    }
   ],
   "source": [
    "saca_metricas(y_test, y_pred)"
   ]
  },
  {
   "cell_type": "markdown",
   "metadata": {},
   "source": [
    "### Modelo 3: SVC"
   ]
  },
  {
   "cell_type": "code",
   "execution_count": 50,
   "metadata": {
    "scrolled": false
   },
   "outputs": [
    {
     "name": "stderr",
     "output_type": "stream",
     "text": [
      "C:\\Users\\isabe\\Anaconda3\\lib\\site-packages\\sklearn\\utils\\validation.py:724: DataConversionWarning: A column-vector y was passed when a 1d array was expected. Please change the shape of y to (n_samples, ), for example using ravel().\n",
      "  y = column_or_1d(y, warn=True)\n",
      "C:\\Users\\isabe\\Anaconda3\\lib\\site-packages\\sklearn\\svm\\base.py:193: FutureWarning: The default value of gamma will change from 'auto' to 'scale' in version 0.22 to account better for unscaled features. Set gamma explicitly to 'auto' or 'scale' to avoid this warning.\n",
      "  \"avoid this warning.\", FutureWarning)\n"
     ]
    }
   ],
   "source": [
    "svm_classifier = SVC().fit(x_train, y_train)\n",
    "y_pred         = svm_classifier.predict(x_test)"
   ]
  },
  {
   "cell_type": "code",
   "execution_count": 51,
   "metadata": {
    "scrolled": true
   },
   "outputs": [
    {
     "name": "stdout",
     "output_type": "stream",
     "text": [
      "matriz de confusión\n",
      "[[    0  1385]\n",
      " [    0 17709]]\n",
      "accuracy\n",
      "0.9274641248559757\n",
      "precision\n",
      "0.9274641248559757\n",
      "recall\n",
      "1.0\n",
      "f1\n",
      "0.9623671983262234\n",
      "AUC\n",
      "0.5\n"
     ]
    },
    {
     "data": {
      "image/png": "[encoded data removed]",
      "text/plain": [
       "<Figure size 432x288 with 1 Axes>"
      ]
     },
     "metadata": {
      "needs_background": "light"
     },
     "output_type": "display_data"
    }
   ],
   "source": [
    "saca_metricas(y_test, y_pred)"
   ]
  },
  {
   "cell_type": "markdown",
   "metadata": {},
   "source": [
    "### Modelo 4: Naive Bayes"
   ]
  },
  {
   "cell_type": "code",
   "execution_count": 53,
   "metadata": {
    "scrolled": true
   },
   "outputs": [
    {
     "name": "stderr",
     "output_type": "stream",
     "text": [
      "C:\\Users\\isabe\\Anaconda3\\lib\\site-packages\\sklearn\\utils\\validation.py:724: DataConversionWarning: A column-vector y was passed when a 1d array was expected. Please change the shape of y to (n_samples, ), for example using ravel().\n",
      "  y = column_or_1d(y, warn=True)\n"
     ]
    }
   ],
   "source": [
    "nb_classifier = naive_bayes.GaussianNB().fit(x_train, y_train)\n",
    "y_pred        = nb_classifier.predict(x_test)"
   ]
  },
  {
   "cell_type": "code",
   "execution_count": 54,
   "metadata": {
    "scrolled": true
   },
   "outputs": [
    {
     "name": "stdout",
     "output_type": "stream",
     "text": [
      "matriz de confusión\n",
      "[[ 1188   197]\n",
      " [  438 17271]]\n",
      "accuracy\n",
      "0.9667434796271079\n",
      "precision\n",
      "0.9887222349438974\n",
      "recall\n",
      "0.9752668134846688\n",
      "f1\n",
      "0.9819484322142309\n",
      "AUC\n",
      "0.9165142731683272\n"
     ]
    },
    {
     "data": {
      "image/png": "[encoded data removed]",
      "text/plain": [
       "<Figure size 432x288 with 1 Axes>"
      ]
     },
     "metadata": {
      "needs_background": "light"
     },
     "output_type": "display_data"
    }
   ],
   "source": [
    "saca_metricas(y_test, y_pred)"
   ]
  },
  {
   "cell_type": "markdown",
   "metadata": {},
   "source": [
    "# 5. Mejora de modelos"
   ]
  },
  {
   "cell_type": "markdown",
   "metadata": {},
   "source": [
    "Los modelos anteriores es muy probable que tengan overfitting, a continuación voy a realizar varias mejoras para obtener resultados más fiables a la par de mejores:\n",
    "    1. Creación de nuevas variables\n",
    "    2. Selección de variables a entrar en el modelo\n",
    "    3. Corrección del modelo de Regresión logística\n",
    "    4. Ensamblado de modelos:\n",
    "        4.1. Bagging \n",
    "        4.2. Boosting\n",
    "    5. Validación cruzada de los nuevos modelos\n",
    "    6. Selección del mejor modelo"
   ]
  },
  {
   "cell_type": "markdown",
   "metadata": {},
   "source": [
    "## 5.1. Feature engineering"
   ]
  },
  {
   "cell_type": "markdown",
   "metadata": {},
   "source": [
    "Transformación de variables con el objetivo de que se comporten mejor con respecto a la variable objetivo"
   ]
  },
  {
   "cell_type": "code",
   "execution_count": 55,
   "metadata": {},
   "outputs": [],
   "source": [
    "# Función dada en clase para sacar gráficos que se ve como se comportan las categorías de las variables con respecto a la target\n",
    "def proporciones_final (var,target,df):\n",
    "\n",
    "    proporcion = pd.DataFrame()\n",
    "    \n",
    "    proporcion['%clientes'] = df[target].groupby(df[var]).mean()*100\n",
    "    proporcion['Conteo'] = df[target].groupby(df[var]).count()\n",
    "    proporcion= proporcion.round(3)   \n",
    "    proporcion_filtered = proporcion[(proporcion['%clientes']>0) & (proporcion['Conteo']>10)]\n",
    "        \n",
    "    if len(proporcion_filtered)<100 and len(proporcion_filtered)>1:\n",
    "        fig = plt.figure()\n",
    "        ax = proporcion_filtered['Conteo'].plot(kind='bar',grid=True)\n",
    "                \n",
    "        ax2 = ax.twinx()\n",
    "        ax2.plot(proporcion_filtered['%clientes'].values, linestyle='-', linewidth=2.0,color='g')\n",
    "        plt.tight_layout()        \n",
    "    \n",
    "    else:        \n",
    "        proporcion_filtered.reset_index(inplace=True)\n",
    "        sns.lmplot(x = var,y ='%clientes',data=proporcion_filtered, fit_reg=True,ci=None)"
   ]
  },
  {
   "cell_type": "code",
   "execution_count": 56,
   "metadata": {},
   "outputs": [
    {
     "data": {
      "image/png": "[encoded data removed]",
      "text/plain": [
       "<Figure size 432x288 with 2 Axes>"
      ]
     },
     "metadata": {
      "needs_background": "light"
     },
     "output_type": "display_data"
    },
    {
     "data": {
      "image/png": "[encoded data removed]",
      "text/plain": [
       "<Figure size 360x360 with 1 Axes>"
      ]
     },
     "metadata": {
      "needs_background": "light"
     },
     "output_type": "display_data"
    },
    {
     "data": {
      "image/png": "[encoded data removed]",
      "text/plain": [
       "<Figure size 360x360 with 1 Axes>"
      ]
     },
     "metadata": {
      "needs_background": "light"
     },
     "output_type": "display_data"
    },
    {
     "data": {
      "image/png": "[encoded data removed]",
      "text/plain": [
       "<Figure size 432x288 with 2 Axes>"
      ]
     },
     "metadata": {
      "needs_background": "light"
     },
     "output_type": "display_data"
    },
    {
     "data": {
      "image/png": "[encoded data removed]",
      "text/plain": [
       "<Figure size 432x288 with 2 Axes>"
      ]
     },
     "metadata": {
      "needs_background": "light"
     },
     "output_type": "display_data"
    },
    {
     "data": {
      "image/png": "[encoded data removed]",
      "text/plain": [
       "<Figure size 432x288 with 2 Axes>"
      ]
     },
     "metadata": {
      "needs_background": "light"
     },
     "output_type": "display_data"
    },
    {
     "data": {
      "image/png": "[encoded data removed]",
      "text/plain": [
       "<Figure size 432x288 with 2 Axes>"
      ]
     },
     "metadata": {
      "needs_background": "light"
     },
     "output_type": "display_data"
    },
    {
     "data": {
      "image/png": "[encoded data removed]",
      "text/plain": [
       "<Figure size 432x288 with 2 Axes>"
      ]
     },
     "metadata": {
      "needs_background": "light"
     },
     "output_type": "display_data"
    },
    {
     "data": {
      "image/png": "[encoded data removed]",
      "text/plain": [
       "<Figure size 432x288 with 2 Axes>"
      ]
     },
     "metadata": {
      "needs_background": "light"
     },
     "output_type": "display_data"
    },
    {
     "data": {
      "image/png": "[encoded data removed]",
      "text/plain": [
       "<Figure size 360x360 with 1 Axes>"
      ]
     },
     "metadata": {
      "needs_background": "light"
     },
     "output_type": "display_data"
    },
    {
     "data": {
      "image/png": "[encoded data removed]",
      "text/plain": [
       "<Figure size 360x360 with 1 Axes>"
      ]
     },
     "metadata": {
      "needs_background": "light"
     },
     "output_type": "display_data"
    },
    {
     "data": {
      "image/png": "[encoded data removed]",
      "text/plain": [
       "<Figure size 432x288 with 2 Axes>"
      ]
     },
     "metadata": {
      "needs_background": "light"
     },
     "output_type": "display_data"
    },
    {
     "data": {
      "image/png": "[encoded data removed]",
      "text/plain": [
       "<Figure size 360x360 with 1 Axes>"
      ]
     },
     "metadata": {
      "needs_background": "light"
     },
     "output_type": "display_data"
    },
    {
     "data": {
      "image/png": "[encoded data removed]",
      "text/plain": [
       "<Figure size 360x360 with 1 Axes>"
      ]
     },
     "metadata": {
      "needs_background": "light"
     },
     "output_type": "display_data"
    },
    {
     "data": {
      "image/png": "[encoded data removed]",
      "text/plain": [
       "<Figure size 432x288 with 2 Axes>"
      ]
     },
     "metadata": {
      "needs_background": "light"
     },
     "output_type": "display_data"
    },
    {
     "data": {
      "image/png": "[encoded data removed]",
      "text/plain": [
       "<Figure size 432x288 with 2 Axes>"
      ]
     },
     "metadata": {
      "needs_background": "light"
     },
     "output_type": "display_data"
    },
    {
     "data": {
      "image/png": "[encoded data removed]",
      "text/plain": [
       "<Figure size 432x288 with 2 Axes>"
      ]
     },
     "metadata": {
      "needs_background": "light"
     },
     "output_type": "display_data"
    },
    {
     "data": {
      "image/png": "[encoded data removed]",
      "text/plain": [
       "<Figure size 360x360 with 1 Axes>"
      ]
     },
     "metadata": {
      "needs_background": "light"
     },
     "output_type": "display_data"
    }
   ],
   "source": [
    "for i in dic_final.columns:\n",
    "    proporciones_final (i, 'target', dic_final)"
   ]
  },
  {
   "cell_type": "markdown",
   "metadata": {},
   "source": [
    "Las barras de las variables muestran como se distribuye la variable.\n",
    "\n",
    "La línea muestra como se comporta la variable frente a la target, observando esto con algunas variables junto categorías:"
   ]
  },
  {
   "cell_type": "code",
   "execution_count": 57,
   "metadata": {},
   "outputs": [],
   "source": [
    "# num_dt (número de líneas impagadas) la convierto en binaria: 0 = no tiene, 1 = tiene\n",
    "dic_final['fe_num_dt'] = dic_final['num_dt'] .apply(lambda x: 0 if x==0 else 1)\n",
    "\n",
    "# vel_conexion hago 4 categorías en función del ancho de banda de bajo a muy alto\n",
    "dic_final['vel_conexion_baja']  = dic_final['vel_conexion'].apply(lambda x: 1 if x<25 else 0)\n",
    "dic_final['vel_conexion_media'] = dic_final['vel_conexion'].apply(lambda x: 1 if x>=25 & x<=35 else 0)\n",
    "dic_final['vel_conexion_alta'] = dic_final['vel_conexion'].apply(lambda x: 1 if x>35 & x<200 else 0)\n",
    "dic_final['vel_conexion_muyalta'] = dic_final['vel_conexion'].apply(lambda x: 1 if x>=200 else 0)  \n",
    "dic_final['fe_vel_conexion'] = dic_final['vel_conexion'].apply(lambda x: 1 if x<25 else(2 if x>=25 and x<=35 else(3 if x>35 and x<200 else(4))))"
   ]
  },
  {
   "cell_type": "code",
   "execution_count": 58,
   "metadata": {
    "scrolled": false
   },
   "outputs": [],
   "source": [
    "# Quito las variables originales ya que entran las nuevas (fe_)\n",
    "dic_final = dic_final.drop(columns=['num_dt','vel_conexion'])"
   ]
  },
  {
   "cell_type": "code",
   "execution_count": 59,
   "metadata": {},
   "outputs": [
    {
     "data": {
      "text/plain": [
       "Index(['edad', 'facturacion', 'antiguedad', 'provincia', 'num_lineas',\n",
       "       'incidencia', 'financiacion', 'descuentos', 'num_llamad_ent',\n",
       "       'num_llamad_sal', 'mb_datos', 'seg_llamad_ent', 'seg_llamad_sal',\n",
       "       'conexion', 'TV', 'target', 'fe_num_dt', 'vel_conexion_baja',\n",
       "       'vel_conexion_media', 'vel_conexion_alta', 'vel_conexion_muyalta',\n",
       "       'fe_vel_conexion'],\n",
       "      dtype='object')"
      ]
     },
     "execution_count": 59,
     "metadata": {},
     "output_type": "execute_result"
    }
   ],
   "source": [
    "dic_final.columns"
   ]
  },
  {
   "cell_type": "markdown",
   "metadata": {},
   "source": [
    "## 5.2. Selección de variables"
   ]
  },
  {
   "cell_type": "markdown",
   "metadata": {},
   "source": [
    "De todas las variables que tengo, las dadas en el csv + las creadas, realizo una selección de variables por varios métodos para quedarme con las que mejor se vayan a comportar en el modelo.\n",
    "\n",
    "Métodos:\n",
    "- Eliminar variables de baja varianza\n",
    "- Análisis univariante\n",
    "- PCA o análisis de componentes principales"
   ]
  },
  {
   "cell_type": "code",
   "execution_count": 60,
   "metadata": {},
   "outputs": [
    {
     "data": {
      "text/plain": [
       "Index(['edad', 'facturacion', 'antiguedad', 'provincia', 'num_lineas',\n",
       "       'incidencia', 'financiacion', 'descuentos', 'num_llamad_ent',\n",
       "       'num_llamad_sal', 'mb_datos', 'seg_llamad_ent', 'seg_llamad_sal',\n",
       "       'conexion', 'TV', 'fe_num_dt', 'vel_conexion_baja',\n",
       "       'vel_conexion_media', 'vel_conexion_alta', 'vel_conexion_muyalta',\n",
       "       'fe_vel_conexion'],\n",
       "      dtype='object')"
      ]
     },
     "execution_count": 60,
     "metadata": {},
     "output_type": "execute_result"
    }
   ],
   "source": [
    "# Vuelvo a definir x e y con las nuevas variables\n",
    "y = pd.DataFrame(dic_final['target']) #objetivo\n",
    "x = pd.DataFrame(dic_final.loc[:, dic_final.columns != 'target'])\n",
    "x.columns"
   ]
  },
  {
   "cell_type": "markdown",
   "metadata": {},
   "source": [
    "#### Eliminar variables con baja varianza"
   ]
  },
  {
   "cell_type": "markdown",
   "metadata": {},
   "source": [
    "Con un umbral del 60% voy a eliminar las variables con menor varianza, de manera que de las 21 variables originales que tenía me selecciona 11. Las más importantes para el modelo."
   ]
  },
  {
   "cell_type": "code",
   "execution_count": 61,
   "metadata": {},
   "outputs": [],
   "source": [
    "var_th = VarianceThreshold(threshold = 0.60) \n",
    "x_var = var_th.fit_transform(x) "
   ]
  },
  {
   "cell_type": "code",
   "execution_count": 62,
   "metadata": {},
   "outputs": [
    {
     "data": {
      "text/plain": [
       "21"
      ]
     },
     "execution_count": 62,
     "metadata": {},
     "output_type": "execute_result"
    }
   ],
   "source": [
    "x.shape[1] # variables principales"
   ]
  },
  {
   "cell_type": "code",
   "execution_count": 63,
   "metadata": {},
   "outputs": [
    {
     "data": {
      "text/plain": [
       "11"
      ]
     },
     "execution_count": 63,
     "metadata": {},
     "output_type": "execute_result"
    }
   ],
   "source": [
    "x_var.shape[1] # variables finales"
   ]
  },
  {
   "cell_type": "code",
   "execution_count": 64,
   "metadata": {},
   "outputs": [
    {
     "data": {
      "text/plain": [
       "['antiguedad',\n",
       " 'edad',\n",
       " 'facturacion',\n",
       " 'fe_vel_conexion',\n",
       " 'mb_datos',\n",
       " 'num_lineas',\n",
       " 'num_llamad_ent',\n",
       " 'num_llamad_sal',\n",
       " 'provincia',\n",
       " 'seg_llamad_ent',\n",
       " 'seg_llamad_sal']"
      ]
     },
     "execution_count": 64,
     "metadata": {},
     "output_type": "execute_result"
    }
   ],
   "source": [
    "variables1 = list(np.asarray(list(x))[var_th.get_support()])\n",
    "variables1.sort()\n",
    "variables1"
   ]
  },
  {
   "cell_type": "markdown",
   "metadata": {},
   "source": [
    "#### Análisis univariante"
   ]
  },
  {
   "cell_type": "markdown",
   "metadata": {},
   "source": [
    "Otra metodología para seleccionar variables influyentes para el modelo es a través del análisis univariante. En esta caso le digo que sean las 11 variables más influyentes."
   ]
  },
  {
   "cell_type": "code",
   "execution_count": 65,
   "metadata": {},
   "outputs": [
    {
     "data": {
      "text/plain": [
       "['antiguedad',\n",
       " 'descuentos',\n",
       " 'facturacion',\n",
       " 'fe_num_dt',\n",
       " 'financiacion',\n",
       " 'incidencia',\n",
       " 'mb_datos',\n",
       " 'num_llamad_ent',\n",
       " 'num_llamad_sal',\n",
       " 'provincia',\n",
       " 'seg_llamad_ent']"
      ]
     },
     "execution_count": 65,
     "metadata": {},
     "output_type": "execute_result"
    }
   ],
   "source": [
    "S_chi = SelectKBest(chi2, k = 11)\n",
    "X_chi = S_chi.fit_transform(x, y)\n",
    "\n",
    "variables2 = list(np.asarray(list(x))[S_chi.get_support()])\n",
    "variables2.sort()\n",
    "variables2"
   ]
  },
  {
   "cell_type": "markdown",
   "metadata": {},
   "source": [
    "#### PCA"
   ]
  },
  {
   "cell_type": "markdown",
   "metadata": {},
   "source": [
    "El estudio de componentes principales sirve para ver aquellas variables que son más significativas para el modelo, aquellas que tienen mayor valor predictivo. Y así quedarnos con estas variables más valiosas, las llamadas componentes principales.\n",
    "\n",
    "Calcula la proporción de variación explicada, es decir, las varianzas de las variables hasta alcanzar un mínimo que especifiquemos, y nos quedaríamos con esas variables.\n",
    "\n",
    "En este caso TODAS varianzas son MUY BAJAS por lo que no es no concluyente. "
   ]
  },
  {
   "cell_type": "code",
   "execution_count": 66,
   "metadata": {},
   "outputs": [
    {
     "data": {
      "text/plain": [
       "array([4.16528294e-01, 2.64567556e-01, 2.63345083e-01, 5.51530398e-02,\n",
       "       2.53991740e-04, 9.87771458e-05, 4.17797868e-05, 6.74867539e-06,\n",
       "       3.04995494e-06, 1.66179309e-06, 7.42945436e-09])"
      ]
     },
     "execution_count": 66,
     "metadata": {},
     "output_type": "execute_result"
    }
   ],
   "source": [
    "pca = PCA(n_components = 11)\n",
    "x_train = pca.fit_transform(x_train)\n",
    "x_test = pca.transform(x_test)\n",
    "explained_variance = pca.explained_variance_ratio_\n",
    "explained_variance"
   ]
  },
  {
   "cell_type": "markdown",
   "metadata": {},
   "source": [
    "### Selección final"
   ]
  },
  {
   "cell_type": "markdown",
   "metadata": {},
   "source": [
    "Me quedo con una combinación de las variables dadas por el análisis univariante y la eliminación de las de baja varianza.\n",
    "Hago un análisis VIF de estas para evitar la colinaealidad"
   ]
  },
  {
   "cell_type": "code",
   "execution_count": 67,
   "metadata": {},
   "outputs": [],
   "source": [
    "dic_final = dic_final.drop(columns=['conexion', 'TV', 'vel_conexion_baja',\n",
    "       'vel_conexion_media', 'vel_conexion_alta', 'vel_conexion_muyalta'])"
   ]
  },
  {
   "cell_type": "code",
   "execution_count": 68,
   "metadata": {},
   "outputs": [
    {
     "data": {
      "text/plain": [
       "Index(['edad', 'facturacion', 'antiguedad', 'provincia', 'num_lineas',\n",
       "       'incidencia', 'financiacion', 'descuentos', 'num_llamad_ent',\n",
       "       'num_llamad_sal', 'mb_datos', 'seg_llamad_ent', 'seg_llamad_sal',\n",
       "       'target', 'fe_num_dt', 'fe_vel_conexion'],\n",
       "      dtype='object')"
      ]
     },
     "execution_count": 68,
     "metadata": {},
     "output_type": "execute_result"
    }
   ],
   "source": [
    "dic_final.columns"
   ]
  },
  {
   "cell_type": "code",
   "execution_count": 69,
   "metadata": {},
   "outputs": [
    {
     "name": "stdout",
     "output_type": "stream",
     "text": [
      "El valor del VIF para la variable edad es: 1.000323088555577\n",
      "El valor del VIF para la variable facturacion es: 1.2706282335934536\n",
      "El valor del VIF para la variable antiguedad es: 1.0001112804609884\n",
      "El valor del VIF para la variable provincia es: 1.0002026828906785\n",
      "El valor del VIF para la variable num_lineas es: 1.2703149903442725\n",
      "El valor del VIF para la variable incidencia es: 1.000116611478586\n",
      "El valor del VIF para la variable financiacion es: 1.000807433544459\n",
      "El valor del VIF para la variable descuentos es: 1.0002266575933263\n",
      "El valor del VIF para la variable num_llamad_ent es: 1.0001700001043892\n",
      "El valor del VIF para la variable num_llamad_sal es: 1.000060125547735\n",
      "El valor del VIF para la variable mb_datos es: 1.0000878608516497\n",
      "El valor del VIF para la variable seg_llamad_ent es: 1.0001564021947396\n",
      "El valor del VIF para la variable seg_llamad_sal es: 1.0001348628318496\n",
      "El valor del VIF para la variable fe_num_dt es: 1.0001641209929921\n",
      "El valor del VIF para la variable fe_vel_conexion es: 1.0002612105823732\n"
     ]
    }
   ],
   "source": [
    "dic_vif = dic_final.copy(deep = True)\n",
    "features = list(dic_final.columns)\n",
    "features.remove('target')\n",
    "dic_vif = dic_vif[features]\n",
    "\n",
    "for i in range(len(features)):\n",
    "    var = features[i]\n",
    "    fet = features[:]\n",
    "    fet.remove(var)\n",
    "    \n",
    "    x = dic_vif[fet]\n",
    "    y = dic_final[var]\n",
    "    \n",
    "    model = LinearRegression()\n",
    "    model.fit(x, y)\n",
    "    \n",
    "    vif = 1 / (1 - model.score(x, y))\n",
    "    \n",
    "    print ('El valor del VIF para la variable', var, 'es:', vif)"
   ]
  },
  {
   "cell_type": "markdown",
   "metadata": {},
   "source": [
    "No hay ningún VIF mayor de 5, por lo tanto, no tengo variables colineales"
   ]
  },
  {
   "cell_type": "markdown",
   "metadata": {},
   "source": [
    "### Train-Test con las nuevas variables seleccionadas"
   ]
  },
  {
   "cell_type": "code",
   "execution_count": 70,
   "metadata": {},
   "outputs": [],
   "source": [
    "# Definición de variables\n",
    "y = pd.DataFrame(dic_final['target']) #objetivo\n",
    "x = pd.DataFrame(dic_final.loc[:, dic_final.columns != 'target'])"
   ]
  },
  {
   "cell_type": "code",
   "execution_count": 71,
   "metadata": {},
   "outputs": [],
   "source": [
    "# Creación de train y test\n",
    "x_train,x_test,y_train,y_test = train_test_split(x, y, test_size = 0.2)\n",
    "\n",
    "#FALTARÍA EL ESTRATIFICADO:\n",
    "# x_train,x_test,y_train,y_test = train_test_split(x, y, test_size = 0.2, random_state=42, stratify = y)"
   ]
  },
  {
   "cell_type": "markdown",
   "metadata": {},
   "source": [
    "## 5.3. Modelo regresión logística de nuevo"
   ]
  },
  {
   "cell_type": "markdown",
   "metadata": {},
   "source": [
    "Realizo de nuevo el modelo de Regresión logística, esta vez con las nuevas variables seleccionadas e incluyendo la penalización de parámetros L2 y balanceo de variables para evitar el overfitting."
   ]
  },
  {
   "cell_type": "code",
   "execution_count": 72,
   "metadata": {},
   "outputs": [
    {
     "name": "stderr",
     "output_type": "stream",
     "text": [
      "C:\\Users\\isabe\\Anaconda3\\lib\\site-packages\\sklearn\\utils\\validation.py:724: DataConversionWarning: A column-vector y was passed when a 1d array was expected. Please change the shape of y to (n_samples, ), for example using ravel().\n",
      "  y = column_or_1d(y, warn=True)\n",
      "C:\\Users\\isabe\\Anaconda3\\lib\\site-packages\\sklearn\\utils\\optimize.py:203: ConvergenceWarning: newton-cg failed to converge. Increase the number of iterations.\n",
      "  \"number of iterations.\", ConvergenceWarning)\n"
     ]
    }
   ],
   "source": [
    "classifier2 = LogisticRegression(C=1.0,penalty='l2',random_state=1,solver=\"newton-cg\",class_weight=\"balanced\").fit(x_train, y_train)\n",
    "y_pred = classifier2.predict(x_test)"
   ]
  },
  {
   "cell_type": "code",
   "execution_count": 73,
   "metadata": {},
   "outputs": [
    {
     "name": "stdout",
     "output_type": "stream",
     "text": [
      "matriz de confusión\n",
      "[[ 1403     6]\n",
      " [  278 17407]]\n",
      "accuracy\n",
      "0.9851262176599979\n",
      "precision\n",
      "0.9996554298512605\n",
      "recall\n",
      "0.9842804636697766\n",
      "f1\n",
      "0.9919083708473416\n",
      "AUC\n",
      "0.9900110622110417\n"
     ]
    },
    {
     "data": {
      "image/png": "[encoded data removed]",
      "text/plain": [
       "<Figure size 432x288 with 1 Axes>"
      ]
     },
     "metadata": {
      "needs_background": "light"
     },
     "output_type": "display_data"
    }
   ],
   "source": [
    "saca_metricas(y_test, y_pred)"
   ]
  },
  {
   "cell_type": "markdown",
   "metadata": {},
   "source": [
    "## 5.4. Ensamblado de modelos"
   ]
  },
  {
   "cell_type": "markdown",
   "metadata": {},
   "source": [
    "A continuación vemos dos metodologías para el ensamblado de modelos. En ambas, a partir de un algoritmo inicial se obtiene otro algoritmo \"ensamblado\" con mejores resultados."
   ]
  },
  {
   "cell_type": "markdown",
   "metadata": {},
   "source": [
    "### 5.4.1. Bagging"
   ]
  },
  {
   "cell_type": "markdown",
   "metadata": {},
   "source": [
    "A partir del algoritmo inicial va realizando mejoras en paralelo para finalmente realizar un modelo \"ensamblado\" con el promedio de los resultados.\n",
    "\n",
    "Como resultado reduce el overfitting y la varianza.\n",
    "\n",
    "En esta ocasion he realizado el bagging del modelo de Árbol de decisión, mejorando notablemente el resultado.\n",
    "Un modelo de bagging mejorado es el Random Forest, por ello veo resultados similares."
   ]
  },
  {
   "cell_type": "code",
   "execution_count": 74,
   "metadata": {},
   "outputs": [],
   "source": [
    "bbc = DecisionTreeClassifier(max_depth=2, random_state=0).fit(x_train, y_train)\n",
    "y_pred = bbc.predict(x_test)"
   ]
  },
  {
   "cell_type": "code",
   "execution_count": 75,
   "metadata": {},
   "outputs": [
    {
     "name": "stdout",
     "output_type": "stream",
     "text": [
      "matriz de confusión\n",
      "[[ 1403     6]\n",
      " [  560 17125]]\n",
      "accuracy\n",
      "0.9703571802660521\n",
      "precision\n",
      "0.9996497577491098\n",
      "recall\n",
      "0.9683347469607012\n",
      "f1\n",
      "0.9837431066176472\n",
      "AUC\n",
      "0.982038203856504\n"
     ]
    },
    {
     "data": {
      "image/png": "[encoded data removed]",
      "text/plain": [
       "<Figure size 432x288 with 1 Axes>"
      ]
     },
     "metadata": {
      "needs_background": "light"
     },
     "output_type": "display_data"
    }
   ],
   "source": [
    "saca_metricas(y_test, y_pred)"
   ]
  },
  {
   "cell_type": "markdown",
   "metadata": {},
   "source": [
    "#### Random forest"
   ]
  },
  {
   "cell_type": "code",
   "execution_count": 76,
   "metadata": {},
   "outputs": [
    {
     "name": "stderr",
     "output_type": "stream",
     "text": [
      "C:\\Users\\isabe\\Anaconda3\\lib\\site-packages\\sklearn\\ensemble\\forest.py:245: FutureWarning: The default value of n_estimators will change from 10 in version 0.20 to 100 in 0.22.\n",
      "  \"10 in version 0.20 to 100 in 0.22.\", FutureWarning)\n",
      "C:\\Users\\isabe\\Anaconda3\\lib\\site-packages\\ipykernel_launcher.py:1: DataConversionWarning: A column-vector y was passed when a 1d array was expected. Please change the shape of y to (n_samples,), for example using ravel().\n",
      "  \"\"\"Entry point for launching an IPython kernel.\n"
     ]
    }
   ],
   "source": [
    "rf_classifier = RandomForestClassifier().fit(x_train, y_train)\n",
    "y_pred        = rf_classifier.predict(x_test)"
   ]
  },
  {
   "cell_type": "code",
   "execution_count": 77,
   "metadata": {},
   "outputs": [
    {
     "name": "stdout",
     "output_type": "stream",
     "text": [
      "matriz de confusión\n",
      "[[ 1381    28]\n",
      " [  257 17428]]\n",
      "accuracy\n",
      "0.9850738451869697\n",
      "precision\n",
      "0.9983959670027498\n",
      "recall\n",
      "0.9854679106587504\n",
      "f1\n",
      "0.9918898153154435\n",
      "AUC\n",
      "0.9827978304180907\n"
     ]
    },
    {
     "data": {
      "image/png": "[encoded data removed]",
      "text/plain": [
       "<Figure size 432x288 with 1 Axes>"
      ]
     },
     "metadata": {
      "needs_background": "light"
     },
     "output_type": "display_data"
    }
   ],
   "source": [
    "saca_metricas(y_test, y_pred)"
   ]
  },
  {
   "cell_type": "markdown",
   "metadata": {},
   "source": [
    "## 5.4.2. Boosting"
   ]
  },
  {
   "cell_type": "markdown",
   "metadata": {},
   "source": [
    "Partiendo de un modelo inicial, intenta construir nuevos modelos que funcionan bien allí donde los anteriores han fallado. Es decir, corrige los errores del modelo anterior creando uno nuevo mejor.\n",
    "\n",
    "Un ejemplo es el modelo XGBoost."
   ]
  },
  {
   "cell_type": "markdown",
   "metadata": {},
   "source": [
    "#### XGBoost"
   ]
  },
  {
   "cell_type": "code",
   "execution_count": 78,
   "metadata": {},
   "outputs": [
    {
     "name": "stdout",
     "output_type": "stream",
     "text": [
      "Requirement already satisfied: xgboost in c:\\users\\isabe\\anaconda3\\lib\\site-packages (1.0.2)\n",
      "Requirement already satisfied: scipy in c:\\users\\isabe\\anaconda3\\lib\\site-packages (from xgboost) (1.3.1)\n",
      "Requirement already satisfied: numpy in c:\\users\\isabe\\anaconda3\\lib\\site-packages (from xgboost) (1.16.5)\n"
     ]
    }
   ],
   "source": [
    "# Instalar xgboost\n",
    "import sys\n",
    "!{sys.executable} -m pip install xgboost\n",
    "\n",
    "from xgboost import XGBClassifier"
   ]
  },
  {
   "cell_type": "code",
   "execution_count": 79,
   "metadata": {},
   "outputs": [
    {
     "name": "stderr",
     "output_type": "stream",
     "text": [
      "C:\\Users\\isabe\\Anaconda3\\lib\\site-packages\\sklearn\\preprocessing\\label.py:219: DataConversionWarning: A column-vector y was passed when a 1d array was expected. Please change the shape of y to (n_samples, ), for example using ravel().\n",
      "  y = column_or_1d(y, warn=True)\n",
      "C:\\Users\\isabe\\Anaconda3\\lib\\site-packages\\sklearn\\preprocessing\\label.py:252: DataConversionWarning: A column-vector y was passed when a 1d array was expected. Please change the shape of y to (n_samples, ), for example using ravel().\n",
      "  y = column_or_1d(y, warn=True)\n"
     ]
    }
   ],
   "source": [
    "# Modelo\n",
    "xgb = XGBClassifier(base_score=0.7, colsample_bylevel=1, colsample_bytree=1,\n",
    "       gamma=0, learning_rate=0.1, max_delta_step=0, max_depth=2,\n",
    "       min_child_weight=1, missing=None, n_estimators=100, nthread=-1,\n",
    "       objective='binary:logistic', reg_alpha=0, reg_lambda=1,\n",
    "       scale_pos_weight=1, seed=0, silent=True, subsample=1).fit(x_train, y_train)\n",
    "y_pred = xgb.predict(x_test)"
   ]
  },
  {
   "cell_type": "code",
   "execution_count": 80,
   "metadata": {},
   "outputs": [
    {
     "name": "stdout",
     "output_type": "stream",
     "text": [
      "matriz de confusión\n",
      "[[ 1403     6]\n",
      " [  266 17419]]\n",
      "accuracy\n",
      "0.985754687336336\n",
      "precision\n",
      "0.9996556671449067\n",
      "recall\n",
      "0.984959004806333\n",
      "f1\n",
      "0.9922529193961834\n",
      "AUC\n",
      "0.9903503327793198\n"
     ]
    },
    {
     "data": {
      "image/png": "[encoded data removed]",
      "text/plain": [
       "<Figure size 432x288 with 1 Axes>"
      ]
     },
     "metadata": {
      "needs_background": "light"
     },
     "output_type": "display_data"
    }
   ],
   "source": [
    "saca_metricas(y_test, y_pred)"
   ]
  },
  {
   "cell_type": "markdown",
   "metadata": {},
   "source": [
    "## 5.5. Validación cruzada"
   ]
  },
  {
   "cell_type": "markdown",
   "metadata": {},
   "source": [
    "Los buenos resultados me hacen seguir pensando la existencia de overfitting pero tras realizar la validación cruzada con 5 pliegues y ver la baja varianza y que los resultados en media siguen siendo buenos, concluyo que será debido a la aleatoriedad en la creación de los datos. "
   ]
  },
  {
   "cell_type": "markdown",
   "metadata": {},
   "source": [
    "### Segundo modelo de regresión logística"
   ]
  },
  {
   "cell_type": "code",
   "execution_count": 81,
   "metadata": {},
   "outputs": [
    {
     "name": "stderr",
     "output_type": "stream",
     "text": [
      "C:\\Users\\isabe\\Anaconda3\\lib\\site-packages\\sklearn\\utils\\validation.py:724: DataConversionWarning: A column-vector y was passed when a 1d array was expected. Please change the shape of y to (n_samples, ), for example using ravel().\n",
      "  y = column_or_1d(y, warn=True)\n",
      "C:\\Users\\isabe\\Anaconda3\\lib\\site-packages\\sklearn\\utils\\optimize.py:203: ConvergenceWarning: newton-cg failed to converge. Increase the number of iterations.\n",
      "  \"number of iterations.\", ConvergenceWarning)\n",
      "C:\\Users\\isabe\\Anaconda3\\lib\\site-packages\\sklearn\\utils\\validation.py:724: DataConversionWarning: A column-vector y was passed when a 1d array was expected. Please change the shape of y to (n_samples, ), for example using ravel().\n",
      "  y = column_or_1d(y, warn=True)\n",
      "C:\\Users\\isabe\\Anaconda3\\lib\\site-packages\\sklearn\\utils\\optimize.py:203: ConvergenceWarning: newton-cg failed to converge. Increase the number of iterations.\n",
      "  \"number of iterations.\", ConvergenceWarning)\n",
      "C:\\Users\\isabe\\Anaconda3\\lib\\site-packages\\sklearn\\utils\\validation.py:724: DataConversionWarning: A column-vector y was passed when a 1d array was expected. Please change the shape of y to (n_samples, ), for example using ravel().\n",
      "  y = column_or_1d(y, warn=True)\n",
      "C:\\Users\\isabe\\Anaconda3\\lib\\site-packages\\scipy\\optimize\\linesearch.py:466: LineSearchWarning: The line search algorithm did not converge\n",
      "  warn('The line search algorithm did not converge', LineSearchWarning)\n",
      "C:\\Users\\isabe\\Anaconda3\\lib\\site-packages\\scipy\\optimize\\linesearch.py:314: LineSearchWarning: The line search algorithm did not converge\n",
      "  warn('The line search algorithm did not converge', LineSearchWarning)\n",
      "C:\\Users\\isabe\\Anaconda3\\lib\\site-packages\\sklearn\\utils\\optimize.py:203: ConvergenceWarning: newton-cg failed to converge. Increase the number of iterations.\n",
      "  \"number of iterations.\", ConvergenceWarning)\n",
      "C:\\Users\\isabe\\Anaconda3\\lib\\site-packages\\sklearn\\utils\\validation.py:724: DataConversionWarning: A column-vector y was passed when a 1d array was expected. Please change the shape of y to (n_samples, ), for example using ravel().\n",
      "  y = column_or_1d(y, warn=True)\n",
      "C:\\Users\\isabe\\Anaconda3\\lib\\site-packages\\scipy\\optimize\\linesearch.py:466: LineSearchWarning: The line search algorithm did not converge\n",
      "  warn('The line search algorithm did not converge', LineSearchWarning)\n",
      "C:\\Users\\isabe\\Anaconda3\\lib\\site-packages\\scipy\\optimize\\linesearch.py:314: LineSearchWarning: The line search algorithm did not converge\n",
      "  warn('The line search algorithm did not converge', LineSearchWarning)\n",
      "C:\\Users\\isabe\\Anaconda3\\lib\\site-packages\\sklearn\\utils\\optimize.py:203: ConvergenceWarning: newton-cg failed to converge. Increase the number of iterations.\n",
      "  \"number of iterations.\", ConvergenceWarning)\n",
      "C:\\Users\\isabe\\Anaconda3\\lib\\site-packages\\sklearn\\utils\\validation.py:724: DataConversionWarning: A column-vector y was passed when a 1d array was expected. Please change the shape of y to (n_samples, ), for example using ravel().\n",
      "  y = column_or_1d(y, warn=True)\n"
     ]
    },
    {
     "name": "stdout",
     "output_type": "stream",
     "text": [
      "[0.983569   0.98376432 0.98193008 0.98101349 0.98193008]\n",
      "0.982441391877504\n",
      "0.0010567338533925435\n"
     ]
    },
    {
     "name": "stderr",
     "output_type": "stream",
     "text": [
      "C:\\Users\\isabe\\Anaconda3\\lib\\site-packages\\scipy\\optimize\\linesearch.py:466: LineSearchWarning: The line search algorithm did not converge\n",
      "  warn('The line search algorithm did not converge', LineSearchWarning)\n",
      "C:\\Users\\isabe\\Anaconda3\\lib\\site-packages\\scipy\\optimize\\linesearch.py:314: LineSearchWarning: The line search algorithm did not converge\n",
      "  warn('The line search algorithm did not converge', LineSearchWarning)\n",
      "C:\\Users\\isabe\\Anaconda3\\lib\\site-packages\\sklearn\\utils\\optimize.py:203: ConvergenceWarning: newton-cg failed to converge. Increase the number of iterations.\n",
      "  \"number of iterations.\", ConvergenceWarning)\n"
     ]
    }
   ],
   "source": [
    "results = cross_val_score(estimator=classifier2, X=x_train, y=y_train, cv=5)\n",
    "print(results)\n",
    "print(results.mean())\n",
    "print(results.std())"
   ]
  },
  {
   "cell_type": "markdown",
   "metadata": {},
   "source": [
    "### Segundo Árbol de decisión"
   ]
  },
  {
   "cell_type": "code",
   "execution_count": 82,
   "metadata": {},
   "outputs": [
    {
     "name": "stdout",
     "output_type": "stream",
     "text": [
      "[0.983569   0.98376432 0.98193008 0.98101349 0.98193008]\n",
      "0.9669253772413426\n",
      "0.0020947198998403954\n"
     ]
    }
   ],
   "source": [
    "results2 = cross_val_score(estimator=bbc, X=x_train, y=y_train, cv=5)\n",
    "print(results)\n",
    "print(results2.mean())\n",
    "print(results2.std())"
   ]
  },
  {
   "cell_type": "markdown",
   "metadata": {},
   "source": [
    "### XGBoost"
   ]
  },
  {
   "cell_type": "code",
   "execution_count": 83,
   "metadata": {},
   "outputs": [
    {
     "name": "stderr",
     "output_type": "stream",
     "text": [
      "C:\\Users\\isabe\\Anaconda3\\lib\\site-packages\\sklearn\\preprocessing\\label.py:219: DataConversionWarning: A column-vector y was passed when a 1d array was expected. Please change the shape of y to (n_samples, ), for example using ravel().\n",
      "  y = column_or_1d(y, warn=True)\n",
      "C:\\Users\\isabe\\Anaconda3\\lib\\site-packages\\sklearn\\preprocessing\\label.py:252: DataConversionWarning: A column-vector y was passed when a 1d array was expected. Please change the shape of y to (n_samples, ), for example using ravel().\n",
      "  y = column_or_1d(y, warn=True)\n"
     ]
    },
    {
     "name": "stdout",
     "output_type": "stream",
     "text": [
      "[0.983569   0.98376432 0.98193008 0.98101349 0.98193008]\n",
      "0.9832401099808186\n",
      "0.0009726217098777693\n"
     ]
    }
   ],
   "source": [
    "results4 = cross_val_score(estimator=xgb, X=x_train, y=y_train, cv=5)\n",
    "print(results)\n",
    "print(results4.mean())\n",
    "print(results4.std())"
   ]
  },
  {
   "cell_type": "markdown",
   "metadata": {},
   "source": [
    "## 5.6. Modelo ganador"
   ]
  },
  {
   "cell_type": "markdown",
   "metadata": {},
   "source": [
    "Con los nuevos modelos hechos en el este apartado 5 vemos que la mayor mejora se ha producido en el modelo de **Regresión logística** gracias a la selección de variables y penalización de parámetros. Además, la validación cruzada me ha demostrado que no son valores casuales.\n",
    "\n",
    "El resultado es muy bueno, demasiado diría yo... y puesto que es fácil de intepretar lo escojo para llevar a \"producción\" y testear los valores de enero."
   ]
  },
  {
   "cell_type": "markdown",
   "metadata": {},
   "source": [
    "# 6. Predicción con datos de enero"
   ]
  },
  {
   "cell_type": "markdown",
   "metadata": {},
   "source": [
    "## Limpieza de enero para que sea similar a diciembre"
   ]
  },
  {
   "cell_type": "code",
   "execution_count": 84,
   "metadata": {
    "scrolled": true
   },
   "outputs": [
    {
     "data": {
      "text/html": [
       "<div>\n",
       "<style scoped>\n",
       "    .dataframe tbody tr th:only-of-type {\n",
       "        vertical-align: middle;\n",
       "    }\n",
       "\n",
       "    .dataframe tbody tr th {\n",
       "        vertical-align: top;\n",
       "    }\n",
       "\n",
       "    .dataframe thead th {\n",
       "        text-align: right;\n",
       "    }\n",
       "</style>\n",
       "<table border=\"1\" class=\"dataframe\">\n",
       "  <thead>\n",
       "    <tr style=\"text-align: right;\">\n",
       "      <th></th>\n",
       "      <th>edad</th>\n",
       "      <th>facturacion</th>\n",
       "      <th>antiguedad</th>\n",
       "      <th>provincia</th>\n",
       "      <th>num_lineas</th>\n",
       "      <th>incidencia</th>\n",
       "      <th>financiacion</th>\n",
       "      <th>descuentos</th>\n",
       "      <th>num_llamad_ent</th>\n",
       "      <th>num_llamad_sal</th>\n",
       "      <th>mb_datos</th>\n",
       "      <th>seg_llamad_ent</th>\n",
       "      <th>seg_llamad_sal</th>\n",
       "      <th>fe_num_dt</th>\n",
       "      <th>fe_vel_conexion</th>\n",
       "    </tr>\n",
       "    <tr>\n",
       "      <th>id</th>\n",
       "      <th></th>\n",
       "      <th></th>\n",
       "      <th></th>\n",
       "      <th></th>\n",
       "      <th></th>\n",
       "      <th></th>\n",
       "      <th></th>\n",
       "      <th></th>\n",
       "      <th></th>\n",
       "      <th></th>\n",
       "      <th></th>\n",
       "      <th></th>\n",
       "      <th></th>\n",
       "      <th></th>\n",
       "      <th></th>\n",
       "    </tr>\n",
       "  </thead>\n",
       "  <tbody>\n",
       "    <tr>\n",
       "      <td>1</td>\n",
       "      <td>63</td>\n",
       "      <td>216.03</td>\n",
       "      <td>502</td>\n",
       "      <td>23</td>\n",
       "      <td>5</td>\n",
       "      <td>0</td>\n",
       "      <td>0</td>\n",
       "      <td>0</td>\n",
       "      <td>95</td>\n",
       "      <td>19</td>\n",
       "      <td>6525</td>\n",
       "      <td>7634</td>\n",
       "      <td>18520</td>\n",
       "      <td>1</td>\n",
       "      <td>3</td>\n",
       "    </tr>\n",
       "    <tr>\n",
       "      <td>2</td>\n",
       "      <td>84</td>\n",
       "      <td>255.83</td>\n",
       "      <td>960</td>\n",
       "      <td>45</td>\n",
       "      <td>3</td>\n",
       "      <td>0</td>\n",
       "      <td>0</td>\n",
       "      <td>1</td>\n",
       "      <td>44</td>\n",
       "      <td>36</td>\n",
       "      <td>14471</td>\n",
       "      <td>14541</td>\n",
       "      <td>8016</td>\n",
       "      <td>1</td>\n",
       "      <td>4</td>\n",
       "    </tr>\n",
       "    <tr>\n",
       "      <td>3</td>\n",
       "      <td>66</td>\n",
       "      <td>135.77</td>\n",
       "      <td>6677</td>\n",
       "      <td>0</td>\n",
       "      <td>4</td>\n",
       "      <td>0</td>\n",
       "      <td>0</td>\n",
       "      <td>1</td>\n",
       "      <td>94</td>\n",
       "      <td>27</td>\n",
       "      <td>1428</td>\n",
       "      <td>5248</td>\n",
       "      <td>7106</td>\n",
       "      <td>1</td>\n",
       "      <td>2</td>\n",
       "    </tr>\n",
       "    <tr>\n",
       "      <td>4</td>\n",
       "      <td>69</td>\n",
       "      <td>255.66</td>\n",
       "      <td>1705</td>\n",
       "      <td>26</td>\n",
       "      <td>4</td>\n",
       "      <td>0</td>\n",
       "      <td>0</td>\n",
       "      <td>0</td>\n",
       "      <td>186</td>\n",
       "      <td>20</td>\n",
       "      <td>20083</td>\n",
       "      <td>7372</td>\n",
       "      <td>5052</td>\n",
       "      <td>1</td>\n",
       "      <td>4</td>\n",
       "    </tr>\n",
       "    <tr>\n",
       "      <td>6</td>\n",
       "      <td>51</td>\n",
       "      <td>99.35</td>\n",
       "      <td>8191</td>\n",
       "      <td>18</td>\n",
       "      <td>4</td>\n",
       "      <td>0</td>\n",
       "      <td>0</td>\n",
       "      <td>0</td>\n",
       "      <td>37</td>\n",
       "      <td>32</td>\n",
       "      <td>19078</td>\n",
       "      <td>5009</td>\n",
       "      <td>8686</td>\n",
       "      <td>1</td>\n",
       "      <td>4</td>\n",
       "    </tr>\n",
       "  </tbody>\n",
       "</table>\n",
       "</div>"
      ],
      "text/plain": [
       "    edad  facturacion  antiguedad  provincia  num_lineas  incidencia  \\\n",
       "id                                                                     \n",
       "1     63       216.03         502         23           5           0   \n",
       "2     84       255.83         960         45           3           0   \n",
       "3     66       135.77        6677          0           4           0   \n",
       "4     69       255.66        1705         26           4           0   \n",
       "6     51        99.35        8191         18           4           0   \n",
       "\n",
       "    financiacion  descuentos  num_llamad_ent  num_llamad_sal  mb_datos  \\\n",
       "id                                                                       \n",
       "1              0           0              95              19      6525   \n",
       "2              0           1              44              36     14471   \n",
       "3              0           1              94              27      1428   \n",
       "4              0           0             186              20     20083   \n",
       "6              0           0              37              32     19078   \n",
       "\n",
       "    seg_llamad_ent  seg_llamad_sal  fe_num_dt  fe_vel_conexion  \n",
       "id                                                              \n",
       "1             7634           18520          1                3  \n",
       "2            14541            8016          1                4  \n",
       "3             5248            7106          1                2  \n",
       "4             7372            5052          1                4  \n",
       "6             5009            8686          1                4  "
      ]
     },
     "execution_count": 84,
     "metadata": {},
     "output_type": "execute_result"
    }
   ],
   "source": [
    "# Pasar cateróricas a númericas binarias\n",
    "categoricas_binarias = ['incidencia','financiacion','descuentos']\n",
    "for j in categoricas_binarias:\n",
    "    ene_final[j] = [1 if x == 'SI' else 0 for x in ene_final[j]]\n",
    "    \n",
    "# vel_conexion\n",
    "ene_final['vel_conexion'] = ene_final['vel_conexion'].astype(str)\n",
    "ene_final['vel_conexion'] = ene_final['vel_conexion'].str.replace('MB','')\n",
    "ene_final['vel_conexion'] = ene_final['vel_conexion'].astype(int)\n",
    "\n",
    "# antiguedad \n",
    "ene_final['antiguedad'] = ene_final['antiguedad'].astype('datetime64[ns]')\n",
    "antiguedad = (datetime.now() - ene_final['antiguedad']).dt.days\n",
    "ene_final['antiguedad'] = antiguedad\n",
    "\n",
    "# CORREGIR ANTIGUEDAD CON 31 DE ENERO, NO DATETIME.NOW\n",
    "# ene_final['antiguedad'] = ene_final['antiguedad'].astype('datetime64[ns]')\n",
    "# antiguedad = (31-01-2020 - ene_final['antiguedad']).dt.days\n",
    "# ene_final['antiguedad'] = antiguedad\n",
    "\n",
    "# provincia \n",
    "transform1 = LabelEncoder()\n",
    "transform1.fit_transform(['La Rioja', 'Vizcaya', 'Albacete', 'Lugo', 'Tarragona', 'Huelva',\n",
    "       'Lérida', 'La Coruña', 'Alicante', 'Madrid', 'Córdoba',\n",
    "       'Las Palmas', 'Soria', 'Zamora', 'Valladolid', 'Granada',\n",
    "       'Palencia', 'Burgos', 'Teruel', 'Navarra', 'Guipúzcoa', 'Valencia',\n",
    "       'Málaga', 'Sevilla', 'Huesca', 'Cádiz', 'Jaén', 'Cuenca',\n",
    "       'Badajoz', 'Almería', 'Ciudad Real', 'Salamanca', 'Pontevedra',\n",
    "       'Segovia', 'Asturias', 'Islas Baleares', 'Álava', 'Cáceres',\n",
    "       'Orense', 'Cantabria', 'Zaragoza', 'Murcia', 'León', 'Toledo',\n",
    "       'Guadalajara', 'Ávila', 'Santa Cruz de Tenerife', 'Castellón',\n",
    "       'Gerona', 'Barcelona'])\n",
    "ene_final['provincia'] = transform1.transform(ene_final['provincia'])\n",
    "\n",
    "# Redondear decimales de facturación\n",
    "ene_final['facturacion'] = round(ene_final['facturacion'], 2)\n",
    "\n",
    "# Nuevas variables\n",
    "ene_final['fe_num_dt'] = ene_final['num_dt'] .apply(lambda x: 0 if x==0 else 1)  \n",
    "ene_final['fe_vel_conexion'] = ene_final['vel_conexion'].apply(lambda x: 1 if x<25 else(2 if x>=25 and x<=35 else(3 if x>35 and x<200 else(4))))\n",
    "\n",
    "# Quitar variables colineales, las que he eliminé en la selección y las transformadas\n",
    "ene_final = ene_final.drop(columns=['imp_financ', 'conexion', 'TV', 'num_dt', 'vel_conexion'])\n",
    "\n",
    "# TABLÓN FINAL\n",
    "ene_final.set_index(['id'], inplace=True)\n",
    "ene_final.head()"
   ]
  },
  {
   "cell_type": "markdown",
   "metadata": {},
   "source": [
    "## Modelo con datos enero"
   ]
  },
  {
   "cell_type": "markdown",
   "metadata": {},
   "source": [
    "El modelo ganador/escogido es el segundo de Regresión logística por lo que realizo la predicción con él para la cosecha de enero 2020.\n",
    "\n",
    "Recuerdo que mi target está definida como:\n",
    "- 1: clientes que se quedan\n",
    "- 0: clientes que se van\n",
    "\n",
    "Por lo que en este caso se observa la **probabilidad de quedarse en la compañía** de cada cliente, identificado por su id.\n"
   ]
  },
  {
   "cell_type": "code",
   "execution_count": 85,
   "metadata": {},
   "outputs": [],
   "source": [
    "# El modelo elegido es el segundo de regresión logística (classifier2)\n",
    "modelo_proba = classifier2.predict_proba(ene_final)[:,1]\n",
    "modelo_proba = (pd.DataFrame(modelo_proba,columns=['probabilidad'],index=ene_final.index))\n",
    "modelo_proba.sort_values(by=['probabilidad'],ascending=False,axis=0,inplace=True)"
   ]
  },
  {
   "cell_type": "code",
   "execution_count": 86,
   "metadata": {
    "scrolled": true
   },
   "outputs": [
    {
     "data": {
      "text/html": [
       "<div>\n",
       "<style scoped>\n",
       "    .dataframe tbody tr th:only-of-type {\n",
       "        vertical-align: middle;\n",
       "    }\n",
       "\n",
       "    .dataframe tbody tr th {\n",
       "        vertical-align: top;\n",
       "    }\n",
       "\n",
       "    .dataframe thead th {\n",
       "        text-align: right;\n",
       "    }\n",
       "</style>\n",
       "<table border=\"1\" class=\"dataframe\">\n",
       "  <thead>\n",
       "    <tr style=\"text-align: right;\">\n",
       "      <th></th>\n",
       "      <th>probabilidad</th>\n",
       "    </tr>\n",
       "    <tr>\n",
       "      <th>id</th>\n",
       "      <th></th>\n",
       "    </tr>\n",
       "  </thead>\n",
       "  <tbody>\n",
       "    <tr>\n",
       "      <td>2568</td>\n",
       "      <td>0.999943</td>\n",
       "    </tr>\n",
       "    <tr>\n",
       "      <td>12478</td>\n",
       "      <td>0.999942</td>\n",
       "    </tr>\n",
       "    <tr>\n",
       "      <td>36822</td>\n",
       "      <td>0.999941</td>\n",
       "    </tr>\n",
       "    <tr>\n",
       "      <td>62205</td>\n",
       "      <td>0.999940</td>\n",
       "    </tr>\n",
       "    <tr>\n",
       "      <td>80276</td>\n",
       "      <td>0.999940</td>\n",
       "    </tr>\n",
       "    <tr>\n",
       "      <td>...</td>\n",
       "      <td>...</td>\n",
       "    </tr>\n",
       "    <tr>\n",
       "      <td>47142</td>\n",
       "      <td>0.000005</td>\n",
       "    </tr>\n",
       "    <tr>\n",
       "      <td>56049</td>\n",
       "      <td>0.000005</td>\n",
       "    </tr>\n",
       "    <tr>\n",
       "      <td>44813</td>\n",
       "      <td>0.000005</td>\n",
       "    </tr>\n",
       "    <tr>\n",
       "      <td>36006</td>\n",
       "      <td>0.000004</td>\n",
       "    </tr>\n",
       "    <tr>\n",
       "      <td>5095</td>\n",
       "      <td>0.000004</td>\n",
       "    </tr>\n",
       "  </tbody>\n",
       "</table>\n",
       "<p>92711 rows × 1 columns</p>\n",
       "</div>"
      ],
      "text/plain": [
       "       probabilidad\n",
       "id                 \n",
       "2568       0.999943\n",
       "12478      0.999942\n",
       "36822      0.999941\n",
       "62205      0.999940\n",
       "80276      0.999940\n",
       "...             ...\n",
       "47142      0.000005\n",
       "56049      0.000005\n",
       "44813      0.000005\n",
       "36006      0.000004\n",
       "5095       0.000004\n",
       "\n",
       "[92711 rows x 1 columns]"
      ]
     },
     "execution_count": 86,
     "metadata": {},
     "output_type": "execute_result"
    }
   ],
   "source": [
    "# Clientes (ID) y su probabilidad de quedarse\n",
    "modelo_proba"
   ]
  },
  {
   "cell_type": "markdown",
   "metadata": {},
   "source": [
    "### Campaña de fidelización\n",
    "\n",
    "Por ejemplo, puedo lanzar una campaña de fidelización a todos aquellos clientes que tienen una probabilidad de quedarse inferior al 70%, que son un 74% del total de clientes de enero."
   ]
  },
  {
   "cell_type": "code",
   "execution_count": 87,
   "metadata": {},
   "outputs": [
    {
     "data": {
      "text/html": [
       "<div>\n",
       "<style scoped>\n",
       "    .dataframe tbody tr th:only-of-type {\n",
       "        vertical-align: middle;\n",
       "    }\n",
       "\n",
       "    .dataframe tbody tr th {\n",
       "        vertical-align: top;\n",
       "    }\n",
       "\n",
       "    .dataframe thead th {\n",
       "        text-align: right;\n",
       "    }\n",
       "</style>\n",
       "<table border=\"1\" class=\"dataframe\">\n",
       "  <thead>\n",
       "    <tr style=\"text-align: right;\">\n",
       "      <th></th>\n",
       "      <th>probabilidad</th>\n",
       "    </tr>\n",
       "    <tr>\n",
       "      <th>id</th>\n",
       "      <th></th>\n",
       "    </tr>\n",
       "  </thead>\n",
       "  <tbody>\n",
       "    <tr>\n",
       "      <td>30859</td>\n",
       "      <td>0.034418</td>\n",
       "    </tr>\n",
       "    <tr>\n",
       "      <td>44096</td>\n",
       "      <td>0.032023</td>\n",
       "    </tr>\n",
       "    <tr>\n",
       "      <td>37819</td>\n",
       "      <td>0.031951</td>\n",
       "    </tr>\n",
       "    <tr>\n",
       "      <td>69625</td>\n",
       "      <td>0.031899</td>\n",
       "    </tr>\n",
       "    <tr>\n",
       "      <td>41378</td>\n",
       "      <td>0.031825</td>\n",
       "    </tr>\n",
       "    <tr>\n",
       "      <td>...</td>\n",
       "      <td>...</td>\n",
       "    </tr>\n",
       "    <tr>\n",
       "      <td>47142</td>\n",
       "      <td>0.000005</td>\n",
       "    </tr>\n",
       "    <tr>\n",
       "      <td>56049</td>\n",
       "      <td>0.000005</td>\n",
       "    </tr>\n",
       "    <tr>\n",
       "      <td>44813</td>\n",
       "      <td>0.000005</td>\n",
       "    </tr>\n",
       "    <tr>\n",
       "      <td>36006</td>\n",
       "      <td>0.000004</td>\n",
       "    </tr>\n",
       "    <tr>\n",
       "      <td>5095</td>\n",
       "      <td>0.000004</td>\n",
       "    </tr>\n",
       "  </tbody>\n",
       "</table>\n",
       "<p>68623 rows × 1 columns</p>\n",
       "</div>"
      ],
      "text/plain": [
       "       probabilidad\n",
       "id                 \n",
       "30859      0.034418\n",
       "44096      0.032023\n",
       "37819      0.031951\n",
       "69625      0.031899\n",
       "41378      0.031825\n",
       "...             ...\n",
       "47142      0.000005\n",
       "56049      0.000005\n",
       "44813      0.000005\n",
       "36006      0.000004\n",
       "5095       0.000004\n",
       "\n",
       "[68623 rows x 1 columns]"
      ]
     },
     "execution_count": 87,
     "metadata": {},
     "output_type": "execute_result"
    }
   ],
   "source": [
    "# Clientes con probabilidad de quedarse inferior al 70%\n",
    "modelo_proba_filter = modelo_proba[modelo_proba['probabilidad'] <= 0.70]\n",
    "modelo_proba_filter"
   ]
  },
  {
   "cell_type": "code",
   "execution_count": 88,
   "metadata": {},
   "outputs": [
    {
     "name": "stdout",
     "output_type": "stream",
     "text": [
      "74%\n"
     ]
    }
   ],
   "source": [
    "clientes_altaprob = int(round((68623/92711)*100,0))\n",
    "print(clientes_altaprob,'%', sep='')"
   ]
  },
  {
   "cell_type": "markdown",
   "metadata": {},
   "source": [
    "En vez de la probabilidad de quedarse, puedo predicir directamente si el cliente se quedará (1) o se irá (0) en el siguiente mes.\n",
    "\n",
    "Los valores son similares a la probabilidad de quedarse inferior al 70%:\n",
    "- Se irán 68623 clientes, un 75%\n",
    "- Se quedarán 24088, un 25%"
   ]
  },
  {
   "cell_type": "code",
   "execution_count": 89,
   "metadata": {},
   "outputs": [
    {
     "data": {
      "text/html": [
       "<div>\n",
       "<style scoped>\n",
       "    .dataframe tbody tr th:only-of-type {\n",
       "        vertical-align: middle;\n",
       "    }\n",
       "\n",
       "    .dataframe tbody tr th {\n",
       "        vertical-align: top;\n",
       "    }\n",
       "\n",
       "    .dataframe thead th {\n",
       "        text-align: right;\n",
       "    }\n",
       "</style>\n",
       "<table border=\"1\" class=\"dataframe\">\n",
       "  <thead>\n",
       "    <tr style=\"text-align: right;\">\n",
       "      <th></th>\n",
       "      <th>churn</th>\n",
       "    </tr>\n",
       "    <tr>\n",
       "      <th>id</th>\n",
       "      <th></th>\n",
       "    </tr>\n",
       "  </thead>\n",
       "  <tbody>\n",
       "    <tr>\n",
       "      <td>1</td>\n",
       "      <td>0</td>\n",
       "    </tr>\n",
       "    <tr>\n",
       "      <td>2</td>\n",
       "      <td>1</td>\n",
       "    </tr>\n",
       "    <tr>\n",
       "      <td>3</td>\n",
       "      <td>1</td>\n",
       "    </tr>\n",
       "    <tr>\n",
       "      <td>4</td>\n",
       "      <td>0</td>\n",
       "    </tr>\n",
       "    <tr>\n",
       "      <td>6</td>\n",
       "      <td>0</td>\n",
       "    </tr>\n",
       "    <tr>\n",
       "      <td>...</td>\n",
       "      <td>...</td>\n",
       "    </tr>\n",
       "    <tr>\n",
       "      <td>99996</td>\n",
       "      <td>0</td>\n",
       "    </tr>\n",
       "    <tr>\n",
       "      <td>99997</td>\n",
       "      <td>1</td>\n",
       "    </tr>\n",
       "    <tr>\n",
       "      <td>99998</td>\n",
       "      <td>0</td>\n",
       "    </tr>\n",
       "    <tr>\n",
       "      <td>99999</td>\n",
       "      <td>0</td>\n",
       "    </tr>\n",
       "    <tr>\n",
       "      <td>100000</td>\n",
       "      <td>1</td>\n",
       "    </tr>\n",
       "  </tbody>\n",
       "</table>\n",
       "<p>92711 rows × 1 columns</p>\n",
       "</div>"
      ],
      "text/plain": [
       "        churn\n",
       "id           \n",
       "1           0\n",
       "2           1\n",
       "3           1\n",
       "4           0\n",
       "6           0\n",
       "...       ...\n",
       "99996       0\n",
       "99997       1\n",
       "99998       0\n",
       "99999       0\n",
       "100000      1\n",
       "\n",
       "[92711 rows x 1 columns]"
      ]
     },
     "execution_count": 89,
     "metadata": {},
     "output_type": "execute_result"
    }
   ],
   "source": [
    "prediccion = classifier2.predict(ene_final)\n",
    "prediccion = (pd.DataFrame(prediccion,columns=['churn'],index=ene_final.index))\n",
    "prediccion"
   ]
  },
  {
   "cell_type": "code",
   "execution_count": 90,
   "metadata": {
    "scrolled": false
   },
   "outputs": [
    {
     "data": {
      "text/plain": [
       "0    68623\n",
       "1    24088\n",
       "Name: churn, dtype: int64"
      ]
     },
     "execution_count": 90,
     "metadata": {},
     "output_type": "execute_result"
    }
   ],
   "source": [
    "prediccion['churn'].value_counts()"
   ]
  },
  {
   "cell_type": "markdown",
   "metadata": {},
   "source": [
    "### Ejemplo\n",
    "\n",
    "Características de este cliente que está en el dataframe de enero en la posición 8, su Id corresponde al 11:\n",
    "- Tiene 64 años\n",
    "- Paga 391.69 € al mes\n",
    "- Lleva en la compañía 5679 días\n",
    "- Es de la provincia 13, es decir, de Zamora\n",
    "- Tiene 5 líneas\n",
    "- No ha tenido incidencias\n",
    "- No tiene financiacion\n",
    "- Tiene descuentos aplicados\n",
    "- Le entran 97 llamadas entre sus 5 líneas\n",
    "- Realiza 43 llamadas entre sus 5 líneas\n",
    "- Consume 10961 MB\n",
    "- Ha consumido 10288 segundos en llamadas entrantes entre sus 5 líneas\n",
    "- Ha consumido 13798 segundos en llamadas salientes entre sus 5 líneas\n",
    "- Tiene líneas impagadas \n",
    "- Su ancho de banda es bajo, de la categoría 1\n",
    "\n",
    "Este cliente tiene una probabilidad de quedarse en la compañía del 98%."
   ]
  },
  {
   "cell_type": "code",
   "execution_count": 91,
   "metadata": {},
   "outputs": [
    {
     "name": "stdout",
     "output_type": "stream",
     "text": [
      "edad                  64.00\n",
      "facturacion          391.69\n",
      "antiguedad          5684.00\n",
      "provincia             13.00\n",
      "num_lineas             5.00\n",
      "incidencia             0.00\n",
      "financiacion           0.00\n",
      "descuentos             1.00\n",
      "num_llamad_ent        97.00\n",
      "num_llamad_sal        43.00\n",
      "mb_datos           10961.00\n",
      "seg_llamad_ent     10288.00\n",
      "seg_llamad_sal     13798.00\n",
      "fe_num_dt              1.00\n",
      "fe_vel_conexion        1.00\n",
      "Name: 11, dtype: float64\n"
     ]
    }
   ],
   "source": [
    "print(ene_final.iloc[8])"
   ]
  },
  {
   "cell_type": "code",
   "execution_count": 92,
   "metadata": {},
   "outputs": [
    {
     "data": {
      "text/plain": [
       "0.9836708776518607"
      ]
     },
     "execution_count": 92,
     "metadata": {},
     "output_type": "execute_result"
    }
   ],
   "source": [
    "classifier2.predict_proba(ene_final)[8,1]"
   ]
  },
  {
   "cell_type": "markdown",
   "metadata": {},
   "source": [
    "# 7. Explicación de la marcha de clientes"
   ]
  },
  {
   "cell_type": "markdown",
   "metadata": {},
   "source": [
    "## Conclusiones\n",
    "\n",
    "Según los coeficientes del modelo de regresión logística se concluye:\n",
    "\n",
    "- Por **cada año más que tiene el cliente**, su probabilidad de quedarse en la compañía **aumenta** en 0.00089142454614962, manteniéndose constantes el resto de variables --> **a más edad, más probabilidad de quedarse**\n",
    "\n",
    "\n",
    "- Por **cada euro que paga más al mes** el cliente, la probabilidad de quedarse en la compañía **disminuye** en 0.0004774337039710987, manteniéndose constantes el resto de variables --> **a mayor gasto, más probabilidad de irse**\n",
    "\n",
    "    \n",
    "- Por **cada día más que el cliente está en la compañía**, su probabilidad de quedarse en ella **aumenta** en 1.3220531707715348e-05, manteniéndose constantes el resto de variables --> **a más tiempo en la compañía, más probabilidad de quedarse**\n",
    "    \n",
    "\n",
    "- **Pertenecer a una u otra provincia** en el orden de clasificación dado por Labelencoder, hace que probabilidad de quedarse en la compañía **aumente** en 0.00183373491555627, manteniéndose constantes el resto de variables --> **al pertenecer a una provincia con código mayor, más probabilidad de quedarse**\n",
    "\n",
    "\n",
    "- Por **cada línea adicional** que tiene el cliente, su probabilidad de quedarse en la compañía **aumenta** en 0.04510689246790333, manteniéndose constantes el resto de variables --> **a más líneas, más probabilidad de quedarse**\n",
    "  \n",
    "  \n",
    "- Que el cliente **haya tenido una incidencia disminuye** la probabilidad de quedarse en la compañía en 8.259627982327718, manteniéndose constantes el resto de variables --> **si tiene incidencia, más probabilidad de irse**\n",
    "\n",
    "    \n",
    "- Que el cliente tenga **financiada alguna línea aumenta** la probabilidad de quedarse en la compañía en 5.378635146003356, manteniéndose constantes el resto de variables --> **si tiene financiación, más probabilidad de quedarse**\n",
    "\n",
    "    \n",
    "- Que el cliente **tenga descuentos aumenta** la probabilidad de quedarse en la compañía en 7.818604361214472, manteniéndose constantes el resto de variables --> **si tiene descuentos, más probabilidad de quedarse**\n",
    "\n",
    "\n",
    "- Por **cada llamada entrante adicional** que recibe el cliente en alguna de sus líneas, la probabilidad de quedarse en la compañía **disminuye** en 1.5623787736128432e-05, manteniéndose constantes el resto de variables --> **a más llamadas recibidas, más probabilidad de irse**\n",
    "\n",
    "\n",
    "- Por **cada que realiza** el cliente en alguna de sus líneas, la probabilidad de quedarse en la compañía **disminuye** en 0.0007154718982006128, manteniéndose constantes el resto de variables --> **a más llamadas realizadas, más probabilidad de irse**\n",
    "\n",
    "\n",
    "- Por **cada dato (MB) adicional** que consume el cliente en alguna de sus líneas, la probabilidad de quedarse en la compañía **disminuye** en 6.908466699384451e-06, manteniéndose constantes el resto de variables --> **a más datos consumidos, más probabilidad de irse**\n",
    "\n",
    "\n",
    "- Por **cada segundo adicional de llamadas que recibe**, la probabilidad de quedarse en la compañía **aumenta** en 8.298500403149558e-06, manteniéndose constantes el resto de variables --> **a llamadas recibidas más largas, más probabilidad de quedarse**\n",
    "\n",
    "\n",
    "- Por **cada segundo adicional de llamadas que realiza**, la probabilidad de quedarse en la compañía **aumenta** en 4.865514259113035e-06, manteniéndose constantes el resto de variables --> **a llamadas realizadas más largas, más probabilidad de quedarse**\n",
    "\n",
    "\n",
    "- Por **tener líneas impagadas**, la probabilidad de quedarse en la compañía **disminuye** en 8.240477467660629, manteniéndose constantes el resto de variables --> **con líneas impagadas, más probabilidad de irse**\n",
    "\n",
    "\n",
    "- Por **tener conexión peor**, la probabilidad de quedarse en la compañía **disminuye** en 0.022196985596624346, manteniéndose constantes el resto de variables --> **con peor conexión, más probabilidad de irse**\n"
   ]
  },
  {
   "cell_type": "code",
   "execution_count": 98,
   "metadata": {
    "scrolled": false
   },
   "outputs": [
    {
     "data": {
      "text/html": [
       "<div>\n",
       "<style scoped>\n",
       "    .dataframe tbody tr th:only-of-type {\n",
       "        vertical-align: middle;\n",
       "    }\n",
       "\n",
       "    .dataframe tbody tr th {\n",
       "        vertical-align: top;\n",
       "    }\n",
       "\n",
       "    .dataframe thead th {\n",
       "        text-align: right;\n",
       "    }\n",
       "</style>\n",
       "<table border=\"1\" class=\"dataframe\">\n",
       "  <thead>\n",
       "    <tr style=\"text-align: right;\">\n",
       "      <th></th>\n",
       "      <th>Variable</th>\n",
       "      <th>Valor</th>\n",
       "    </tr>\n",
       "  </thead>\n",
       "  <tbody>\n",
       "    <tr>\n",
       "      <td>0</td>\n",
       "      <td>edad</td>\n",
       "      <td>[0.00089142454614962]</td>\n",
       "    </tr>\n",
       "    <tr>\n",
       "      <td>1</td>\n",
       "      <td>facturacion</td>\n",
       "      <td>[-0.0004774337039710987]</td>\n",
       "    </tr>\n",
       "    <tr>\n",
       "      <td>2</td>\n",
       "      <td>antiguedad</td>\n",
       "      <td>[1.3220531707715348e-05]</td>\n",
       "    </tr>\n",
       "    <tr>\n",
       "      <td>3</td>\n",
       "      <td>provincia</td>\n",
       "      <td>[0.00183373491555627]</td>\n",
       "    </tr>\n",
       "    <tr>\n",
       "      <td>4</td>\n",
       "      <td>num_lineas</td>\n",
       "      <td>[0.04510689246790333]</td>\n",
       "    </tr>\n",
       "    <tr>\n",
       "      <td>5</td>\n",
       "      <td>incidencia</td>\n",
       "      <td>[-8.259627982327718]</td>\n",
       "    </tr>\n",
       "    <tr>\n",
       "      <td>6</td>\n",
       "      <td>financiacion</td>\n",
       "      <td>[5.378635146003356]</td>\n",
       "    </tr>\n",
       "    <tr>\n",
       "      <td>7</td>\n",
       "      <td>descuentos</td>\n",
       "      <td>[7.818604361214472]</td>\n",
       "    </tr>\n",
       "    <tr>\n",
       "      <td>8</td>\n",
       "      <td>num_llamad_ent</td>\n",
       "      <td>[-1.5623787736128432e-05]</td>\n",
       "    </tr>\n",
       "    <tr>\n",
       "      <td>9</td>\n",
       "      <td>num_llamad_sal</td>\n",
       "      <td>[-0.0007154718982006128]</td>\n",
       "    </tr>\n",
       "    <tr>\n",
       "      <td>10</td>\n",
       "      <td>mb_datos</td>\n",
       "      <td>[-6.908466699384451e-06]</td>\n",
       "    </tr>\n",
       "    <tr>\n",
       "      <td>11</td>\n",
       "      <td>seg_llamad_ent</td>\n",
       "      <td>[8.298500403149558e-06]</td>\n",
       "    </tr>\n",
       "    <tr>\n",
       "      <td>12</td>\n",
       "      <td>seg_llamad_sal</td>\n",
       "      <td>[4.865514259113035e-06]</td>\n",
       "    </tr>\n",
       "    <tr>\n",
       "      <td>13</td>\n",
       "      <td>fe_num_dt</td>\n",
       "      <td>[-8.240477467660629]</td>\n",
       "    </tr>\n",
       "    <tr>\n",
       "      <td>14</td>\n",
       "      <td>fe_vel_conexion</td>\n",
       "      <td>[-0.022196985596624346]</td>\n",
       "    </tr>\n",
       "  </tbody>\n",
       "</table>\n",
       "</div>"
      ],
      "text/plain": [
       "           Variable                      Valor\n",
       "0              edad      [0.00089142454614962]\n",
       "1       facturacion   [-0.0004774337039710987]\n",
       "2        antiguedad   [1.3220531707715348e-05]\n",
       "3         provincia      [0.00183373491555627]\n",
       "4        num_lineas      [0.04510689246790333]\n",
       "5        incidencia       [-8.259627982327718]\n",
       "6      financiacion        [5.378635146003356]\n",
       "7        descuentos        [7.818604361214472]\n",
       "8    num_llamad_ent  [-1.5623787736128432e-05]\n",
       "9    num_llamad_sal   [-0.0007154718982006128]\n",
       "10         mb_datos   [-6.908466699384451e-06]\n",
       "11   seg_llamad_ent    [8.298500403149558e-06]\n",
       "12   seg_llamad_sal    [4.865514259113035e-06]\n",
       "13        fe_num_dt       [-8.240477467660629]\n",
       "14  fe_vel_conexion    [-0.022196985596624346]"
      ]
     },
     "execution_count": 98,
     "metadata": {},
     "output_type": "execute_result"
    }
   ],
   "source": [
    "listado = list(zip(x.columns, np.transpose(classifier2.coef_))) \n",
    "df_coef = pd.DataFrame(listado, columns = ['Variable', 'Valor']) \n",
    "df_coef"
   ]
  },
  {
   "cell_type": "markdown",
   "metadata": {},
   "source": [
    "Ordenadas de mayor a menor, estas serían las variables que más influyen en la probabilidad de que un cliente se quede o se vaya. Ya explicadas anteriormente, si el valor del coeficiente es positivo aumentará la probabilidad de que el cliente se quede en la compañía, si es negativo disminuirá (o aumentará la probabilidad de irse)."
   ]
  },
  {
   "cell_type": "code",
   "execution_count": 102,
   "metadata": {
    "scrolled": true
   },
   "outputs": [
    {
     "data": {
      "text/html": [
       "<div>\n",
       "<style scoped>\n",
       "    .dataframe tbody tr th:only-of-type {\n",
       "        vertical-align: middle;\n",
       "    }\n",
       "\n",
       "    .dataframe tbody tr th {\n",
       "        vertical-align: top;\n",
       "    }\n",
       "\n",
       "    .dataframe thead th {\n",
       "        text-align: right;\n",
       "    }\n",
       "</style>\n",
       "<table border=\"1\" class=\"dataframe\">\n",
       "  <thead>\n",
       "    <tr style=\"text-align: right;\">\n",
       "      <th></th>\n",
       "      <th>Variable</th>\n",
       "      <th>Valor</th>\n",
       "    </tr>\n",
       "  </thead>\n",
       "  <tbody>\n",
       "    <tr>\n",
       "      <td>7</td>\n",
       "      <td>descuentos</td>\n",
       "      <td>[7.818604361214472]</td>\n",
       "    </tr>\n",
       "    <tr>\n",
       "      <td>6</td>\n",
       "      <td>financiacion</td>\n",
       "      <td>[5.378635146003356]</td>\n",
       "    </tr>\n",
       "    <tr>\n",
       "      <td>4</td>\n",
       "      <td>num_lineas</td>\n",
       "      <td>[0.04510689246790333]</td>\n",
       "    </tr>\n",
       "    <tr>\n",
       "      <td>3</td>\n",
       "      <td>provincia</td>\n",
       "      <td>[0.00183373491555627]</td>\n",
       "    </tr>\n",
       "    <tr>\n",
       "      <td>0</td>\n",
       "      <td>edad</td>\n",
       "      <td>[0.00089142454614962]</td>\n",
       "    </tr>\n",
       "    <tr>\n",
       "      <td>2</td>\n",
       "      <td>antiguedad</td>\n",
       "      <td>[1.3220531707715348e-05]</td>\n",
       "    </tr>\n",
       "    <tr>\n",
       "      <td>11</td>\n",
       "      <td>seg_llamad_ent</td>\n",
       "      <td>[8.298500403149558e-06]</td>\n",
       "    </tr>\n",
       "    <tr>\n",
       "      <td>12</td>\n",
       "      <td>seg_llamad_sal</td>\n",
       "      <td>[4.865514259113035e-06]</td>\n",
       "    </tr>\n",
       "    <tr>\n",
       "      <td>10</td>\n",
       "      <td>mb_datos</td>\n",
       "      <td>[-6.908466699384451e-06]</td>\n",
       "    </tr>\n",
       "    <tr>\n",
       "      <td>8</td>\n",
       "      <td>num_llamad_ent</td>\n",
       "      <td>[-1.5623787736128432e-05]</td>\n",
       "    </tr>\n",
       "    <tr>\n",
       "      <td>1</td>\n",
       "      <td>facturacion</td>\n",
       "      <td>[-0.0004774337039710987]</td>\n",
       "    </tr>\n",
       "    <tr>\n",
       "      <td>9</td>\n",
       "      <td>num_llamad_sal</td>\n",
       "      <td>[-0.0007154718982006128]</td>\n",
       "    </tr>\n",
       "    <tr>\n",
       "      <td>14</td>\n",
       "      <td>fe_vel_conexion</td>\n",
       "      <td>[-0.022196985596624346]</td>\n",
       "    </tr>\n",
       "    <tr>\n",
       "      <td>13</td>\n",
       "      <td>fe_num_dt</td>\n",
       "      <td>[-8.240477467660629]</td>\n",
       "    </tr>\n",
       "    <tr>\n",
       "      <td>5</td>\n",
       "      <td>incidencia</td>\n",
       "      <td>[-8.259627982327718]</td>\n",
       "    </tr>\n",
       "  </tbody>\n",
       "</table>\n",
       "</div>"
      ],
      "text/plain": [
       "           Variable                      Valor\n",
       "7        descuentos        [7.818604361214472]\n",
       "6      financiacion        [5.378635146003356]\n",
       "4        num_lineas      [0.04510689246790333]\n",
       "3         provincia      [0.00183373491555627]\n",
       "0              edad      [0.00089142454614962]\n",
       "2        antiguedad   [1.3220531707715348e-05]\n",
       "11   seg_llamad_ent    [8.298500403149558e-06]\n",
       "12   seg_llamad_sal    [4.865514259113035e-06]\n",
       "10         mb_datos   [-6.908466699384451e-06]\n",
       "8    num_llamad_ent  [-1.5623787736128432e-05]\n",
       "1       facturacion   [-0.0004774337039710987]\n",
       "9    num_llamad_sal   [-0.0007154718982006128]\n",
       "14  fe_vel_conexion    [-0.022196985596624346]\n",
       "13        fe_num_dt       [-8.240477467660629]\n",
       "5        incidencia       [-8.259627982327718]"
      ]
     },
     "execution_count": 102,
     "metadata": {},
     "output_type": "execute_result"
    }
   ],
   "source": [
    "df_coef.sort_values(by='Valor', ascending=False)"
   ]
  }
 ],
 "metadata": {
  "kernelspec": {
   "display_name": "Python 3",
   "language": "python",
   "name": "python3"
  },
  "language_info": {
   "codemirror_mode": {
    "name": "ipython",
    "version": 3
   },
   "file_extension": ".py",
   "mimetype": "text/x-python",
   "name": "python",
   "nbconvert_exporter": "python",
   "pygments_lexer": "ipython3",
   "version": "3.7.4"
  }
 },
 "nbformat": 4,
 "nbformat_minor": 2
}
